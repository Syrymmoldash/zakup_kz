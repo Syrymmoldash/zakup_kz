{
 "cells": [
  {
   "cell_type": "code",
   "execution_count": 2,
   "id": "129c2134",
   "metadata": {},
   "outputs": [],
   "source": [
    "import websockets\n",
    "import ssl"
   ]
  },
  {
   "cell_type": "code",
   "execution_count": 3,
   "id": "23234a3d",
   "metadata": {},
   "outputs": [],
   "source": [
    "ssl_context = ssl.SSLContext(ssl.PROTOCOL_TLSv1_2)\n",
    "localhost_pem = (\"/home/necuk/Downloads/somekey.pem\")\n",
    "ssl_context.load_verify_locations(localhost_pem)"
   ]
  },
  {
   "cell_type": "code",
   "execution_count": 45,
   "id": "cadaf19d",
   "metadata": {
    "scrolled": true
   },
   "outputs": [],
   "source": [
    "# import asyncio\n",
    "# import pathlib\n",
    "# import ssl\n",
    "# import websockets\n",
    "\n",
    "# ssl_context = ssl.SSLContext(ssl.PROTOCOL_TLS_CLIENT)\n",
    "# localhost_pem = (\"/home/necuk/Downloads/somekey.pem\")\n",
    "# ssl_context.load_verify_locations(localhost_pem)\n",
    "\n",
    "# async def hello():\n",
    "#     uri = \"wss://localhost:8765\"\n",
    "#     async with websockets.connect(\n",
    "#         uri, ssl=ssl_context\n",
    "#     ) as websocket:\n",
    "#         name = input(\"What's your name? \")\n",
    "\n",
    "#         await websocket.send(name)\n",
    "#         print(f\"> {name}\")\n",
    "\n",
    "#         greeting = await websocket.recv()\n",
    "#         print(f\"< {greeting}\")\n",
    "\n",
    "# asyncio.get_event_loop().run_until_complete(hello())"
   ]
  },
  {
   "cell_type": "code",
   "execution_count": null,
   "id": "b48dae2d",
   "metadata": {},
   "outputs": [],
   "source": []
  },
  {
   "cell_type": "code",
   "execution_count": null,
   "id": "0de0d455",
   "metadata": {},
   "outputs": [],
   "source": []
  },
  {
   "cell_type": "code",
   "execution_count": 4,
   "id": "1eb0685b",
   "metadata": {},
   "outputs": [],
   "source": [
    "my_context = ssl.create_default_context()\n",
    "my_context.load_verify_locations('/home/necuk/Downloads/somekey.pem')"
   ]
  },
  {
   "cell_type": "code",
   "execution_count": 12,
   "id": "b3156cc5",
   "metadata": {},
   "outputs": [],
   "source": [
    "import ssl\n",
    "import websocket\n",
    "import json\n",
    "\n",
    "def send_msg(msg=None):\n",
    "    ip = 'wss://127.0.0.1:13579'\n",
    "\n",
    "#     ws = websocket.WebSocket(sslopt={'cert_reqs': ssl.CERT_NONE})\n",
    "    ws = websocket.WebSocket(sslopt={'context': ssl_context})\n",
    "    ws.connect(ip)\n",
    "\n",
    "    print(ws.recv())\n",
    "\n",
    "    if msg:\n",
    "        ws.send(json.dumps(msg))\n",
    "        result =  ws.recv()\n",
    "        return result"
   ]
  },
  {
   "cell_type": "code",
   "execution_count": 9,
   "id": "5aeaa67e",
   "metadata": {
    "scrolled": false
   },
   "outputs": [
    {
     "data": {
      "text/plain": [
       "'{\"result\":{\"version\":\"1.3\"}}'"
      ]
     },
     "execution_count": 9,
     "metadata": {},
     "output_type": "execute_result"
    }
   ],
   "source": [
    "msg = {\"module\":\"NURSign\",\"type\":\"version\"}\n",
    "send_msg(msg)"
   ]
  },
  {
   "cell_type": "code",
   "execution_count": null,
   "id": "5524f334",
   "metadata": {},
   "outputs": [],
   "source": []
  },
  {
   "cell_type": "code",
   "execution_count": null,
   "id": "d4b6ee42",
   "metadata": {},
   "outputs": [],
   "source": []
  },
  {
   "cell_type": "code",
   "execution_count": null,
   "id": "c778b073",
   "metadata": {},
   "outputs": [],
   "source": []
  },
  {
   "cell_type": "code",
   "execution_count": 21,
   "id": "d559c725",
   "metadata": {},
   "outputs": [],
   "source": [
    "msg = {\n",
    "    \"module\":\"NURSign\",\n",
    "    \"type\": \"browseKeyStore\"\n",
    "}"
   ]
  },
  {
   "cell_type": "code",
   "execution_count": 37,
   "id": "bd497d47",
   "metadata": {},
   "outputs": [],
   "source": [
    "msg = {\"module\":\"NURSign\",\"type\":\"version\"}"
   ]
  },
  {
   "cell_type": "code",
   "execution_count": 14,
   "id": "2ca1e622",
   "metadata": {},
   "outputs": [],
   "source": [
    "msg = {\n",
    "    \"module\": 'kz.gov.pki.knca.commonUtils',\n",
    "    \"method\": 'getActiveTokens',\n",
    "}"
   ]
  },
  {
   "cell_type": "code",
   "execution_count": 23,
   "id": "59f8c741",
   "metadata": {},
   "outputs": [],
   "source": [
    "msg = {\n",
    "  'method': \"browseKeyStore\",\n",
    "  'args': ['PKCS12', 'P12', '/home/necuk/Downloads/GOSTKNCA_de06917abeb353d4e98e6f2d04cc900e91771194.p12']\n",
    "}"
   ]
  },
  {
   "cell_type": "code",
   "execution_count": 22,
   "id": "3d6dacd7",
   "metadata": {},
   "outputs": [
    {
     "name": "stdout",
     "output_type": "stream",
     "text": [
      "{\"result\":{\"version\":\"1.3\"}}\n"
     ]
    },
    {
     "data": {
      "text/plain": [
       "'{\"errorMessage\":\"Доступ с хоста https://127.0.0.1:13579 запрещен.\",\"errorCode\":14}'"
      ]
     },
     "execution_count": 22,
     "metadata": {},
     "output_type": "execute_result"
    }
   ],
   "source": [
    "send_msg(msg)"
   ]
  },
  {
   "cell_type": "code",
   "execution_count": null,
   "id": "9d80d4aa",
   "metadata": {},
   "outputs": [],
   "source": []
  },
  {
   "cell_type": "code",
   "execution_count": null,
   "id": "de5a46c7",
   "metadata": {},
   "outputs": [],
   "source": []
  },
  {
   "cell_type": "code",
   "execution_count": 16,
   "id": "d211b484",
   "metadata": {},
   "outputs": [],
   "source": [
    "msg = {\n",
    "  \"method\": \"signXml\",\n",
    "  \"args\": [\n",
    "      'PKCS12',\n",
    "      '/home/necuk/Downloads/GOSTKNCA_de06917abeb353d4e98e6f2d04cc900e91771194.p12',\n",
    "      '111',\n",
    "      'Leader2020',\n",
    "      '<login><timeTicket>1517997213006</timeTicket></login>'\n",
    "  ]\n",
    "}"
   ]
  },
  {
   "cell_type": "code",
   "execution_count": null,
   "id": "4e91dceb",
   "metadata": {},
   "outputs": [],
   "source": []
  },
  {
   "cell_type": "code",
   "execution_count": null,
   "id": "a5aff6f5",
   "metadata": {},
   "outputs": [],
   "source": []
  },
  {
   "cell_type": "code",
   "execution_count": null,
   "id": "5f27bea0",
   "metadata": {},
   "outputs": [],
   "source": []
  },
  {
   "cell_type": "code",
   "execution_count": null,
   "id": "bdd288c2",
   "metadata": {},
   "outputs": [],
   "source": []
  },
  {
   "cell_type": "code",
   "execution_count": null,
   "id": "622d3b87",
   "metadata": {},
   "outputs": [],
   "source": []
  }
 ],
 "metadata": {
  "kernelspec": {
   "display_name": "Python 3 (ipykernel)",
   "language": "python",
   "name": "python3"
  },
  "language_info": {
   "codemirror_mode": {
    "name": "ipython",
    "version": 3
   },
   "file_extension": ".py",
   "mimetype": "text/x-python",
   "name": "python",
   "nbconvert_exporter": "python",
   "pygments_lexer": "ipython3",
   "version": "3.8.10"
  }
 },
 "nbformat": 4,
 "nbformat_minor": 5
}
