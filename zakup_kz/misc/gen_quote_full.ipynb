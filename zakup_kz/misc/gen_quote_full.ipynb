{
 "cells": [
  {
   "cell_type": "code",
   "execution_count": 19,
   "id": "6e4cc94b",
   "metadata": {},
   "outputs": [],
   "source": [
    "from urllib.parse import quote, unquote, quote_plus, urlencode\n",
    "\n",
    "from base64 import b64encode\n",
    "import json\n",
    "import time\n",
    "\n",
    "import requests\n",
    "\n",
    "from scrapy.http import HtmlResponse"
   ]
  },
  {
   "cell_type": "code",
   "execution_count": 50,
   "id": "367a411b",
   "metadata": {},
   "outputs": [],
   "source": [
    "def get_new_token(response):\n",
    "    token = response.headers['Set-Cookie'].split(\";\")[0].split('=')[1]\n",
    "#     print(\"got token\", token)\n",
    "#     print()\n",
    "    return token"
   ]
  },
  {
   "cell_type": "code",
   "execution_count": 3,
   "id": "f491c187",
   "metadata": {},
   "outputs": [],
   "source": [
    "def gen_lot_xml(order_id, buy_lot_id, buy_lot_point_id, price):\n",
    "    return (\n",
    "        f'<?xml version=\"1.0\" encoding=\"UTF-8\"?>'\n",
    "        f'<priceoffer>'\n",
    "        f'<trd_buy_id>{order_id}</trd_buy_id>'\n",
    "        f'<trd_buy_lot_id>{buy_lot_id}</trd_buy_lot_id>'\n",
    "        f'<trd_buy_lot_point_id>{buy_lot_point_id}</trd_buy_lot_point_id>'\n",
    "        f'<price>{price}</price>'\n",
    "        f'</priceoffer>'\n",
    "    )"
   ]
  },
  {
   "cell_type": "code",
   "execution_count": 4,
   "id": "6284eea6",
   "metadata": {},
   "outputs": [],
   "source": [
    "def gen_xml_data(prices):\n",
    "    res = {}\n",
    "    \n",
    "    for price in prices:\n",
    "        res[f'xmlData[{price[\"buy_lot_point_id\"]}]'] = price['xml_string']\n",
    "        \n",
    "    return res"
   ]
  },
  {
   "cell_type": "code",
   "execution_count": 5,
   "id": "83c1c8c1",
   "metadata": {},
   "outputs": [],
   "source": [
    "def sign(string):\n",
    "    cert_path='/home/necuk/Downloads/key2/GOSTKNCA_de113b5aa34a4d38ee8836c3e2ae2e3c8e23d06c.p12'\n",
    "    with open (cert_path, 'rb') as f:\n",
    "        cert = b64encode(f.read()).decode('utf-8')\n",
    "    \n",
    "    data = {\n",
    "        \"version\": \"2.0\",\n",
    "        \"method\": \"cms.sign\",\n",
    "        \"params\": {\n",
    "            \"data\": b64encode(string.encode('utf-8')).decode('utf-8'),\n",
    "            \"p12array\": [\n",
    "                {\n",
    "                    \"alias\": \"\",\n",
    "                    \"p12\": cert,\n",
    "                    \"password\":\"baRsa01022020\"\n",
    "                }\n",
    "            ]\n",
    "        }\n",
    "    }\n",
    "    \n",
    "    \n",
    "    headers = {\n",
    "        'Content-Type': 'application/json'\n",
    "    }\n",
    "    \n",
    "    r = requests.post(\n",
    "        url='http://127.0.0.1:14579', \n",
    "        data=json.dumps(data),\n",
    "    #     data = data,\n",
    "        headers=headers\n",
    "    )\n",
    "\n",
    "    print(r.status_code)\n",
    "    \n",
    "    return json.loads(r.text)['cms']"
   ]
  },
  {
   "cell_type": "code",
   "execution_count": 6,
   "id": "abeddf5b",
   "metadata": {},
   "outputs": [],
   "source": [
    "def gen_prices_request_data(prices):\n",
    "    formdata = {\n",
    "        f\"offer[{record['app_lot_id']}][{record['buy_lot_point_id']}][price]\": record['price']\n",
    "        for record in prices\n",
    "    }\n",
    "    formdata_encoded = 'formData=' + urlencode(formdata)\n",
    "    \n",
    "    xml = gen_xml_data(prices)\n",
    "    \n",
    "    signatures = {}\n",
    "    for p in prices:\n",
    "        cms = sign(p['xml_string'])\n",
    "        signatures[f'signData[{p[\"buy_lot_point_id\"]}]'] = cms\n",
    "        \n",
    "    return urlencode(xml, safe='+') + '&' + urlencode(signatures) + '&' + formdata_encoded"
   ]
  },
  {
   "cell_type": "code",
   "execution_count": 45,
   "id": "f5d5b852",
   "metadata": {},
   "outputs": [],
   "source": [
    "def prices_1(token):\n",
    "\n",
    "    cookies = {\n",
    "        'show_filter_app': 'block',\n",
    "    #     'ci_session': self.get_token_scrapy(response)\n",
    "    #     'ci_session': get_new_token(response)\n",
    "        'ci_session': token\n",
    "    }\n",
    "\n",
    "    headers = {\n",
    "        'Connection': 'keep-alive',\n",
    "        'Cache-Control': 'max-age=0',\n",
    "        'Upgrade-Insecure-Requests': '1',\n",
    "        'User-Agent': self.user_agent,\n",
    "        'Accept': 'text/html,application/xhtml+xml,application/xml;q=0.9,image/avif,image/webp,image/apng,*/*;q=0.8,application/signed-exchange;v=b3;q=0.9',\n",
    "        'Sec-Fetch-Site': 'same-origin',\n",
    "        'Sec-Fetch-Mode': 'navigate',\n",
    "        'Sec-Fetch-Dest': 'document',\n",
    "        'sec-ch-ua': '\" Not A;Brand\";v=\"99\", \"Chromium\";v=\"99\", \"Google Chrome\";v=\"99\"',\n",
    "        'sec-ch-ua-mobile': '?0',\n",
    "        'sec-ch-ua-platform': '\"Linux\"',\n",
    "        'Referer': f'https://v3bl.goszakup.gov.kz/ru/application/docs/{self.order_id}/{self.application_id}',\n",
    "        'Accept-Language': 'en-US,en;q=0.9',\n",
    "    }\n",
    "\n",
    "    # request = scrapy.Request(\n",
    "    #     method='GET',\n",
    "    #     url=f'https://v3bl.goszakup.gov.kz/ru/application/priceoffers/{self.order_id}/{self.application_id}', \n",
    "    #     headers=headers, \n",
    "    #     cookies=cookies,\n",
    "    #     dont_filter=True,\n",
    "    #     callback=self.prices_3\n",
    "    # )\n",
    "\n",
    "    r = requests.get(\n",
    "        url=f'https://v3bl.goszakup.gov.kz/ru/application/priceoffers/{self.order_id}/{self.application_id}', \n",
    "        headers=headers, \n",
    "        cookies=cookies,\n",
    "        verify=False\n",
    "    )\n",
    "\n",
    "    print('r1', r.status_code)\n",
    "    \n",
    "    return r"
   ]
  },
  {
   "cell_type": "code",
   "execution_count": 31,
   "id": "aa501680",
   "metadata": {},
   "outputs": [],
   "source": [
    "def prices_1(token):\n",
    "\n",
    "    cookies = {\n",
    "        'show_filter_app': 'block',\n",
    "    #     'ci_session': self.get_token_scrapy(response)\n",
    "    #     'ci_session': get_new_token(response)\n",
    "        'ci_session': token\n",
    "    }\n",
    "\n",
    "    headers = {\n",
    "        'Connection': 'keep-alive',\n",
    "        'Cache-Control': 'max-age=0',\n",
    "        'Upgrade-Insecure-Requests': '1',\n",
    "        'User-Agent': self.user_agent,\n",
    "        'Accept': 'text/html,application/xhtml+xml,application/xml;q=0.9,image/avif,image/webp,image/apng,*/*;q=0.8,application/signed-exchange;v=b3;q=0.9',\n",
    "        'Sec-Fetch-Site': 'same-origin',\n",
    "        'Sec-Fetch-Mode': 'navigate',\n",
    "        'Sec-Fetch-Dest': 'document',\n",
    "        'sec-ch-ua': '\" Not A;Brand\";v=\"99\", \"Chromium\";v=\"99\", \"Google Chrome\";v=\"99\"',\n",
    "        'sec-ch-ua-mobile': '?0',\n",
    "        'sec-ch-ua-platform': '\"Linux\"',\n",
    "        'Referer': f'https://v3bl.goszakup.gov.kz/ru/application/docs/{self.order_id}/{self.application_id}',\n",
    "        'Accept-Language': 'en-US,en;q=0.9',\n",
    "    }\n",
    "\n",
    "    r = requests.get(\n",
    "        url=f'https://v3bl.goszakup.gov.kz/ru/application/priceoffers/{self.order_id}/{self.application_id}', \n",
    "        headers=headers, \n",
    "        cookies=cookies,\n",
    "        verify=False\n",
    "    )\n",
    "\n",
    "    print('r1', r.status_code)\n",
    "    \n",
    "    return r"
   ]
  },
  {
   "cell_type": "code",
   "execution_count": 39,
   "id": "256b1c11",
   "metadata": {},
   "outputs": [],
   "source": [
    "def gen_prices(r):\n",
    "    response = HtmlResponse(url=\"\", body=r.content)\n",
    "    rows = response.xpath('.//div[@class=\"panel panel-default\"]/table//tr')[1::2]\n",
    "\n",
    "    prices = []\n",
    "\n",
    "    for row in rows:\n",
    "        start_price = row.xpath('./td[6]/text()').get()\n",
    "        new_price = round(float(start_price.replace(' ', '')) * (1 - self.price_discount), 2)\n",
    "\n",
    "        record = {\n",
    "            'price': new_price,\n",
    "            'buy_lot_id': row.xpath('./td[9]/div/input/@trd_lot_id').get(),\n",
    "            'buy_lot_point_id': row.xpath('./td[9]/div/input/@buy_lot_point_id').get(),\n",
    "            'app_lot_id': row.xpath('./td[9]/div/input/@app_lot_id').get()\n",
    "        }\n",
    "\n",
    "        record['xml_string'] = gen_lot_xml(self.order_id, record['buy_lot_id'], record['buy_lot_point_id'], record['price'])\n",
    "\n",
    "        prices.append(record)\n",
    "\n",
    "#     len(rows), len(self.prices)\n",
    "    print(f\"got {len(prices)} prices\")\n",
    "    \n",
    "    return prices"
   ]
  },
  {
   "cell_type": "code",
   "execution_count": 40,
   "id": "92569fb6",
   "metadata": {},
   "outputs": [],
   "source": [
    "def prices_2(token, prices):\n",
    "\n",
    "    cookies = {\n",
    "        'show_filter_app': 'block',\n",
    "    #         'ci_session': self.get_token_scrapy(response)\n",
    "    #     'ci_session': get_new_token(r)\n",
    "        'ci_session': token\n",
    "    }\n",
    "\n",
    "    headers = {\n",
    "        'Connection': 'keep-alive',\n",
    "        'sec-ch-ua': '\" Not A;Brand\";v=\"99\", \"Chromium\";v=\"99\", \"Google Chrome\";v=\"99\"',\n",
    "        'Accept': 'application/json, text/javascript, */*; q=0.01',\n",
    "        'Content-Type': 'application/x-www-form-urlencoded; charset=UTF-8',\n",
    "        'X-Requested-With': 'XMLHttpRequest',\n",
    "        'sec-ch-ua-mobile': '?0',\n",
    "        'User-Agent': 'Mozilla/5.0 (X11; Linux x86_64) AppleWebKit/537.36 (KHTML, like Gecko) Chrome/99.0.4844.51 Safari/537.36',\n",
    "        'sec-ch-ua-platform': '\"Linux\"',\n",
    "        'Origin': 'https://v3bl.goszakup.gov.kz',\n",
    "        'Sec-Fetch-Site': 'same-origin',\n",
    "        'Sec-Fetch-Mode': 'cors',\n",
    "        'Sec-Fetch-Dest': 'empty',\n",
    "        'Referer': f'https://v3bl.goszakup.gov.kz/ru/application/priceoffers/{self.order_id}/{self.application_id}',\n",
    "        'Accept-Language': 'en-US,en;q=0.9',\n",
    "    }\n",
    "\n",
    "    data = {\n",
    "        f\"offer[{record['app_lot_id']}][{record['buy_lot_point_id']}][price]\": record['price']\n",
    "#         for record in self.prices\n",
    "        for record in prices\n",
    "    }\n",
    "\n",
    "    r2 = requests.post(\n",
    "        url=f'https://v3bl.goszakup.gov.kz/ru/application/ajax_check_priceoffers/{self.order_id}/{self.application_id}', \n",
    "        headers=headers, \n",
    "        cookies=cookies, \n",
    "        data=data,\n",
    "        verify=False\n",
    "    )\n",
    "\n",
    "    print('r2', r2.status_code, r2.text)\n",
    "    \n",
    "    return r2"
   ]
  },
  {
   "cell_type": "code",
   "execution_count": 33,
   "id": "6d40b8cd",
   "metadata": {},
   "outputs": [],
   "source": [
    "def prices_submit(token, prices):\n",
    "\n",
    "    cookies = {\n",
    "        'show_filter_app': 'block',\n",
    "        'ci_session': token\n",
    "    #     'ci_session': get_new_token(r2)\n",
    "    }\n",
    "\n",
    "    headers = {\n",
    "        'Connection': 'keep-alive',\n",
    "        'sec-ch-ua': '\" Not A;Brand\";v=\"99\", \"Chromium\";v=\"99\", \"Google Chrome\";v=\"99\"',\n",
    "        'Accept': 'application/json, text/javascript, */*; q=0.01',\n",
    "        'Content-Type': 'application/x-www-form-urlencoded; charset=UTF-8',\n",
    "        'X-Requested-With': 'XMLHttpRequest',\n",
    "        'sec-ch-ua-mobile': '?0',\n",
    "        'User-Agent': 'Mozilla/5.0 (X11; Linux x86_64) AppleWebKit/537.36 (KHTML, like Gecko) Chrome/99.0.4844.51 Safari/537.36',\n",
    "        'sec-ch-ua-platform': '\"Linux\"',\n",
    "        'Origin': 'https://v3bl.goszakup.gov.kz',\n",
    "        'Sec-Fetch-Site': 'same-origin',\n",
    "        'Sec-Fetch-Mode': 'cors',\n",
    "        'Sec-Fetch-Dest': 'empty',\n",
    "    #     'Referer': 'https://v3bl.goszakup.gov.kz/ru/application/priceoffers/7196072/37068725',\n",
    "        'Accept-Language': 'en-US,en;q=0.9',\n",
    "    }\n",
    "\n",
    "    data = gen_prices_request_data(prices)\n",
    "\n",
    "    r3 = requests.post(\n",
    "        f'https://v3bl.goszakup.gov.kz/ru/application/ajax_add_priceoffers/{self.order_id}/{self.application_id}', \n",
    "        headers=headers, cookies=cookies, data=data, verify=False\n",
    "    )\n",
    "\n",
    "    if len(r3.text) < 200:\n",
    "        print('submit', r3.status_code, r3.text)\n",
    "    else:\n",
    "        print('submit',r3.status_code, \"oops unlogin\")\n",
    "        \n",
    "    return r3"
   ]
  },
  {
   "cell_type": "code",
   "execution_count": 59,
   "id": "a0646982",
   "metadata": {},
   "outputs": [],
   "source": [
    "class self:\n",
    "    price_discount = 0.1\n",
    "    order_id = '7196072'\n",
    "    application_id = '37086538'\n",
    "    user_agent = 'Mozilla/5.0 (X11; Linux x86_64) AppleWebKit/537.36 (KHTML, like Gecko) Chrome/99.0.4844.51 Safari/537.36'"
   ]
  },
  {
   "cell_type": "code",
   "execution_count": null,
   "id": "7038976d",
   "metadata": {},
   "outputs": [],
   "source": []
  },
  {
   "cell_type": "code",
   "execution_count": 54,
   "id": "49a445ea",
   "metadata": {},
   "outputs": [],
   "source": [
    "token = \"XjVcZlJlVjkBLlcmAWxTYgMwVmEDCgUgWCMFN1VzU3JXPAM8UG4BUgBjCW1bBAF2DmFTIgNuW20BNldgBg8CJ1hjBDdcawAxVTMEbFRmVzleZ1xoUmBWMgEzV2ABZVNrAzBWPgM1BWFYZwVjVWNTYldtA2JQYgFsAD4JbFtrATcOaVNnA2ZbawE0VzgGagJkWDUEYVw6AGdVYARnVDBXbl43XGlSNVY0AWVXMwFmUzEDMlY4AzIFZlgyBTdVM1NjVwkDcVA7AX4AMAk4W2gBbg4GU3MDPVsrAV1XOwY3AmFYIgQ2XHoAIVULBHZUP1coXm5ca1JrVl8Bd1dlAXhTYwMuVmsDeAUyWAwFcFU7U3JXbwNiUDABNwBWCStbLQEnDj9TIwMLWzoBZVc%2FBj0CcVgMBHFcMgAhVW0EZVQ0V29eblwAUnNWTgE6Vy8BP1M%2FA2xWOgN5BTdYfgViVSBTKVcNA2JQMQE2ACoJRVsxAToOL1MpA3RbIwE6V2wGDAIzWGQEelwpABNVJwQkVGhXPl4DXDlSM1ZIATxXIQF5U2YDM1ZsA3gFMVhmBXJVKFNKVx0DB1BNAUEAJgkpWzQBPQ4xUzQDdFscAWdXOQY4AmpYeQRzXEoAOlUlBDtUaVc%2BXntcZVJoVi0BZVd7AWJTawM0Vm8DeAU3WGEFclVTU2BXMwMyUHIBZAAlCTxbawFjDnRTYgNiWwcBIFdhBiACP1hhBGBcMwAOVXUEOFRlVyheIFwDUjBWYAEhVzwBIFM6A3RWIgMKBSBYawU7VTpTMFdjA2dQOAE5ADgJOVtsAWEOalNqAyk%3D\""
   ]
  },
  {
   "cell_type": "code",
   "execution_count": 51,
   "id": "504b2bb3",
   "metadata": {},
   "outputs": [],
   "source": [
    "# r1 = prices_1(token)\n",
    "# time.sleep(1)\n",
    "\n",
    "# prices = gen_prices(r1)\n",
    "# time.sleep(1)\n",
    "\n",
    "# r2 = prices_2(get_new_token(r1), prices)\n",
    "# time.sleep(0.5)\n",
    "\n",
    "# r3 = prices_submit(get_new_token(r2), prices)"
   ]
  },
  {
   "cell_type": "code",
   "execution_count": null,
   "id": "afbc3e2f",
   "metadata": {},
   "outputs": [],
   "source": []
  },
  {
   "cell_type": "code",
   "execution_count": 57,
   "id": "aa51641a",
   "metadata": {},
   "outputs": [],
   "source": [
    "token=\"XTYPNQYxBmkHKA9%2BBmtWZ1ZlVWIFDAUgCHMCMFN1UnMCaQc4AT9UBwBjCm4GWQZxVToDcgZrAzVRZgw7UFkKLw0yVTNdaVQzBWMFZQY0Vj5dMg9tBjUGZwdkDzgGMlZnVmVVPgVlBWQIMAJgUzFSYQJhBzEBaFQ7ADMKaAZgBjZVOQMwBmUDMlFrDDVQNQo1DTFVZ11uVDAFYgU0BmNWYl1gD2kGYQZrBzAPOwY0VmRWM1U%2BBWMFZwg0AmRTZVJhAlwHdQFqVCsAMAo7BjUGaVVdAyMGOANzUQ0MYFBhCmkNd1VnXXtUdQVbBXcGbVYpXW0POAY%2FBg8HcQ89Bn9WZlZ7VWgFfgUyCFwCd1M9UnMCOgdmAWFUYgBWCigGcAYgVWQDcwYOA2JRNQxkUGsKeQ1ZVSBdM1R1BT0FZAZmVm5dbQ9TBicGHgc8D3cGOFY6VjlVOQV%2FBTcILgJlUyZSKAJYB2YBYFRjACoKRgZsBj1VdAN5BnEDe1FqDDdQWgo7DTFVK10oVEcFdwUlBjpWP10AD2oGZwYYBzoPeQZ%2BVmNWZlVvBX4FMQg2AnVTLlJLAkgHAwEcVBQAJgoqBmkGOlVqA2QGcQNEUTcMYlBuCmINLFUiXUtUbgV1BToGO1Y%2FXXgPNgY8Bn0HYw8jBmVWblZhVWwFfgU3CDECdVNVUmECZgc2ASNUMQAlCj8GNgZkVS8DMgZnA19RcAw6UHYKNw00VTFdMlRaBSUFOQY3VildIw9QBmQGMAcnD2QGJ1Y%2FViFVIQUMBSAIOwI8UzxSMQI2B2MBaVRsADgKPgY9BmZVNAM6Biw%3D\""
   ]
  },
  {
   "cell_type": "code",
   "execution_count": 60,
   "id": "ea5a5641",
   "metadata": {
    "scrolled": true
   },
   "outputs": [
    {
     "name": "stderr",
     "output_type": "stream",
     "text": [
      "/home/necuk/.local/lib/python3.8/site-packages/urllib3/connectionpool.py:1043: InsecureRequestWarning: Unverified HTTPS request is being made to host 'v3bl.goszakup.gov.kz'. Adding certificate verification is strongly advised. See: https://urllib3.readthedocs.io/en/1.26.x/advanced-usage.html#ssl-warnings\n",
      "  warnings.warn(\n"
     ]
    },
    {
     "name": "stdout",
     "output_type": "stream",
     "text": [
      "r1 200\n",
      "got 3 prices\n"
     ]
    },
    {
     "name": "stderr",
     "output_type": "stream",
     "text": [
      "/home/necuk/.local/lib/python3.8/site-packages/urllib3/connectionpool.py:1043: InsecureRequestWarning: Unverified HTTPS request is being made to host 'v3bl.goszakup.gov.kz'. Adding certificate verification is strongly advised. See: https://urllib3.readthedocs.io/en/1.26.x/advanced-usage.html#ssl-warnings\n",
      "  warnings.warn(\n"
     ]
    },
    {
     "name": "stdout",
     "output_type": "stream",
     "text": [
      "r2 200 {\"status\":1}\n",
      "200\n"
     ]
    },
    {
     "name": "stderr",
     "output_type": "stream",
     "text": [
      "/home/necuk/.local/lib/python3.8/site-packages/urllib3/connectionpool.py:1043: InsecureRequestWarning: Unverified HTTPS request is being made to host 'v3bl.goszakup.gov.kz'. Adding certificate verification is strongly advised. See: https://urllib3.readthedocs.io/en/1.26.x/advanced-usage.html#ssl-warnings\n",
      "  warnings.warn(\n"
     ]
    },
    {
     "name": "stdout",
     "output_type": "stream",
     "text": [
      "submit 200 {\"status\":1}\n"
     ]
    },
    {
     "name": "stderr",
     "output_type": "stream",
     "text": [
      "/home/necuk/.local/lib/python3.8/site-packages/urllib3/connectionpool.py:1043: InsecureRequestWarning: Unverified HTTPS request is being made to host 'v3bl.goszakup.gov.kz'. Adding certificate verification is strongly advised. See: https://urllib3.readthedocs.io/en/1.26.x/advanced-usage.html#ssl-warnings\n",
      "  warnings.warn(\n"
     ]
    },
    {
     "name": "stdout",
     "output_type": "stream",
     "text": [
      "r2 200 {\"status\":1}\n",
      "200\n"
     ]
    },
    {
     "name": "stderr",
     "output_type": "stream",
     "text": [
      "/home/necuk/.local/lib/python3.8/site-packages/urllib3/connectionpool.py:1043: InsecureRequestWarning: Unverified HTTPS request is being made to host 'v3bl.goszakup.gov.kz'. Adding certificate verification is strongly advised. See: https://urllib3.readthedocs.io/en/1.26.x/advanced-usage.html#ssl-warnings\n",
      "  warnings.warn(\n"
     ]
    },
    {
     "name": "stdout",
     "output_type": "stream",
     "text": [
      "submit 200 {\"status\":1}\n"
     ]
    },
    {
     "name": "stderr",
     "output_type": "stream",
     "text": [
      "/home/necuk/.local/lib/python3.8/site-packages/urllib3/connectionpool.py:1043: InsecureRequestWarning: Unverified HTTPS request is being made to host 'v3bl.goszakup.gov.kz'. Adding certificate verification is strongly advised. See: https://urllib3.readthedocs.io/en/1.26.x/advanced-usage.html#ssl-warnings\n",
      "  warnings.warn(\n"
     ]
    },
    {
     "name": "stdout",
     "output_type": "stream",
     "text": [
      "r2 200 {\"status\":1}\n",
      "200\n"
     ]
    },
    {
     "name": "stderr",
     "output_type": "stream",
     "text": [
      "/home/necuk/.local/lib/python3.8/site-packages/urllib3/connectionpool.py:1043: InsecureRequestWarning: Unverified HTTPS request is being made to host 'v3bl.goszakup.gov.kz'. Adding certificate verification is strongly advised. See: https://urllib3.readthedocs.io/en/1.26.x/advanced-usage.html#ssl-warnings\n",
      "  warnings.warn(\n"
     ]
    },
    {
     "name": "stdout",
     "output_type": "stream",
     "text": [
      "submit 200 {\"status\":1}\n"
     ]
    }
   ],
   "source": [
    "r1 = prices_1(token)\n",
    "time.sleep(1)\n",
    "\n",
    "prices = gen_prices(r1)\n",
    "time.sleep(1)\n",
    "\n",
    "token = get_new_token(r1)\n",
    "\n",
    "for price in prices:\n",
    "    r2 = prices_2(token, [price])\n",
    "    time.sleep(0.5)\n",
    "\n",
    "    token = get_new_token(r2)\n",
    "    r3 = prices_submit(token, [price])\n",
    "    time.sleep(0.5)\n",
    "    \n",
    "    token = get_new_token(r3)"
   ]
  },
  {
   "cell_type": "code",
   "execution_count": null,
   "id": "bea0c26c",
   "metadata": {},
   "outputs": [],
   "source": []
  },
  {
   "cell_type": "code",
   "execution_count": null,
   "id": "d6c0a3cb",
   "metadata": {},
   "outputs": [],
   "source": []
  },
  {
   "cell_type": "code",
   "execution_count": 61,
   "id": "fa5e1d98",
   "metadata": {},
   "outputs": [],
   "source": [
    "import random"
   ]
  },
  {
   "cell_type": "code",
   "execution_count": 75,
   "id": "7669c83f",
   "metadata": {},
   "outputs": [],
   "source": [
    "tt = [1, 2, 3, 4, 5]"
   ]
  },
  {
   "cell_type": "code",
   "execution_count": 76,
   "id": "e683be6d",
   "metadata": {},
   "outputs": [],
   "source": [
    "tt = [str(i) for i in tt]"
   ]
  },
  {
   "cell_type": "code",
   "execution_count": 77,
   "id": "171e6880",
   "metadata": {},
   "outputs": [
    {
     "data": {
      "text/plain": [
       "'2'"
      ]
     },
     "execution_count": 77,
     "metadata": {},
     "output_type": "execute_result"
    }
   ],
   "source": [
    "random.choice(tt)"
   ]
  },
  {
   "cell_type": "code",
   "execution_count": 78,
   "id": "4288dbd1",
   "metadata": {},
   "outputs": [],
   "source": [
    "tt.remove('1')"
   ]
  },
  {
   "cell_type": "code",
   "execution_count": 80,
   "id": "77a06bc3",
   "metadata": {},
   "outputs": [
    {
     "data": {
      "text/plain": [
       "['2', '3', '4', '5']"
      ]
     },
     "execution_count": 80,
     "metadata": {},
     "output_type": "execute_result"
    }
   ],
   "source": [
    "tt"
   ]
  },
  {
   "cell_type": "code",
   "execution_count": null,
   "id": "efd061df",
   "metadata": {},
   "outputs": [],
   "source": []
  },
  {
   "cell_type": "code",
   "execution_count": null,
   "id": "0112d2fc",
   "metadata": {},
   "outputs": [],
   "source": []
  },
  {
   "cell_type": "code",
   "execution_count": null,
   "id": "538f2642",
   "metadata": {},
   "outputs": [],
   "source": []
  }
 ],
 "metadata": {
  "kernelspec": {
   "display_name": "Python 3 (ipykernel)",
   "language": "python",
   "name": "python3"
  },
  "language_info": {
   "codemirror_mode": {
    "name": "ipython",
    "version": 3
   },
   "file_extension": ".py",
   "mimetype": "text/x-python",
   "name": "python",
   "nbconvert_exporter": "python",
   "pygments_lexer": "ipython3",
   "version": "3.8.10"
  }
 },
 "nbformat": 4,
 "nbformat_minor": 5
}
