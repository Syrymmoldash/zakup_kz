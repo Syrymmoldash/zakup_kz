{
 "cells": [
  {
   "cell_type": "code",
   "execution_count": 1,
   "id": "742e8e30",
   "metadata": {},
   "outputs": [],
   "source": [
    "import json"
   ]
  },
  {
   "cell_type": "code",
   "execution_count": 42,
   "id": "b00107f5",
   "metadata": {},
   "outputs": [],
   "source": [
    "items = [\n",
    "    {\n",
    "        'order': order,\n",
    "        'form11_order_id': '6967735-1',\n",
    "        'address': 'КАЗАХСТАН, 711110000, 010000, г.Нур-Султан, район Алматы, РАКЫМЖАН КОШКАРБАЕВ, 26, 1В',\n",
    "        'iik': 'Банк: Акционерное общество \"Банк Фридом Финанс Казахстан\" ИИК: KZ28551A127014873KZT БИК: KSNVKZKA КБе: 15',\n",
    "        'price_discount': 0.1,\n",
    "        'file_1': 'file:///home/necuk/Desktop/zakup_kz/misc/file.txt',\n",
    "        'file_2': 'file:///home/necuk/Desktop/zakup_kz/misc/file.txt',\n",
    "        'file_15': 'file:///home/necuk/Desktop/zakup_kz/misc/file.txt',\n",
    "        'file_19': 'file:///home/necuk/Desktop/zakup_kz/misc/file.txt',\n",
    "        'file_18': 'file:///home/necuk/Desktop/zakup_kz/misc/file.txt',\n",
    "        'file_11': 'file:///home/necuk/Desktop/zakup_kz/misc/file.txt',\n",
    "        'file_license_1': 'file:///home/necuk/Desktop/zakup_kz/misc/file.txt',\n",
    "        'file_license_2': 'file:///home/necuk/Desktop/zakup_kz/misc/file.txt',\n",
    "        'file_sertificates': 'file:///home/necuk/Desktop/zakup_kz/misc/file.txt',\n",
    "        'file_NDS_register': 'file:///home/necuk/Desktop/zakup_kz/misc/file.txt',\n",
    "    }\n",
    "#     for order in ['7323178-1', '7475498-1', '7367458-2', '7397256-2']\n",
    "#     for order in ['7323178-1', '7475498-1', '7367458-2']\n",
    "#     for order in ['7323178-1']\n",
    "    for order in ['7551349-1']\n",
    "]"
   ]
  },
  {
   "cell_type": "code",
   "execution_count": 43,
   "id": "4ef09a45",
   "metadata": {},
   "outputs": [],
   "source": [
    "config = {\n",
    "#     'cert_path_monitor': '/home/necuk/Downloads/key2/GOSTKNCA_de113b5aa34a4d38ee8836c3e2ae2e3c8e23d06c.p12',\n",
    "#     'cert_password_monitor': 'baRsa01022020',\n",
    "#     'portal_password_monitor': 'baRsa01022020',\n",
    "    \n",
    "#     'cert_path': '/home/necuk/Downloads/GOSTKNCA_de06917abeb353d4e98e6f2d04cc900e91771194.p12',\n",
    "#     'cert_password': 'Leader2020',\n",
    "#     'portal_password': 'Leader2020',\n",
    "\n",
    "    'cert_path': '/home/necuk/Downloads/key2/GOSTKNCA_de113b5aa34a4d38ee8836c3e2ae2e3c8e23d06c.p12',\n",
    "    'cert_password': 'baRsa01022020',\n",
    "    'portal_password': 'baRsa01022020',\n",
    "    \n",
    "    'telegram_token': \"5239766397:AAEzY_olnexkNaULo1GxK7ZlpO-9e1c6ewE\",\n",
    "    'chat_id': \"-751217779\",\n",
    "    \n",
    "    'items': items\n",
    "}"
   ]
  },
  {
   "cell_type": "code",
   "execution_count": 44,
   "id": "be8c1048",
   "metadata": {},
   "outputs": [],
   "source": [
    "with open('../scrapy_parser/config.json' , 'w') as f:\n",
    "    f.write(json.dumps(config, indent=4))"
   ]
  },
  {
   "cell_type": "code",
   "execution_count": null,
   "id": "31aed413",
   "metadata": {},
   "outputs": [],
   "source": []
  },
  {
   "cell_type": "code",
   "execution_count": null,
   "id": "a3e555db",
   "metadata": {},
   "outputs": [],
   "source": []
  },
  {
   "cell_type": "code",
   "execution_count": 50,
   "id": "480703fa",
   "metadata": {},
   "outputs": [],
   "source": [
    "### WINDOWS BARSA"
   ]
  },
  {
   "cell_type": "code",
   "execution_count": 55,
   "id": "73322e6f",
   "metadata": {},
   "outputs": [],
   "source": [
    "items = [\n",
    "    {\n",
    "        'order': order,\n",
    "        'form11_order_id': '6967735-1',\n",
    "        'address': 'КАЗАХСТАН, 711110000, 010000, г.Нур-Султан, район Алматы, РАКЫМЖАН КОШКАРБАЕВ, 26, 1В',\n",
    "        'iik': 'Банк: Акционерное общество \"Банк Фридом Финанс Казахстан\" ИИК: KZ28551A127014873KZT БИК: KSNVKZKA КБе: 15',\n",
    "        'price_discount': 0.1,\n",
    "        'file_1': \"C:\\\\Users\\\\Administrator\\\\Desktop\\\\GosZakup\\\\Tools\\\\file.txt\",\n",
    "        'file_2': \"C:\\\\Users\\\\Administrator\\\\Desktop\\\\GosZakup\\\\Tools\\\\file.txt\",\n",
    "        'file_15': \"C:\\\\Users\\\\Administrator\\\\Desktop\\\\GosZakup\\\\Tools\\\\file.txt\",\n",
    "        'file_19': \"C:\\\\Users\\\\Administrator\\\\Desktop\\\\GosZakup\\\\Tools\\\\file.txt\",\n",
    "        'file_18': \"C:\\\\Users\\\\Administrator\\\\Desktop\\\\GosZakup\\\\Tools\\\\file.txt\",\n",
    "        'file_11': \"C:\\\\Users\\\\Administrator\\\\Desktop\\\\GosZakup\\\\Tools\\\\file.txt\",\n",
    "        'file_license_1': \"C:\\\\Users\\\\Administrator\\\\Desktop\\\\GosZakup\\\\Tools\\\\file.txt\",\n",
    "        'file_license_2': \"C:\\\\Users\\\\Administrator\\\\Desktop\\\\GosZakup\\\\Tools\\\\file.txt\",\n",
    "        'file_sertificates': \"C:\\\\Users\\\\Administrator\\\\Desktop\\\\GosZakup\\\\Tools\\\\file.txt\",\n",
    "        'file_NDS_register': \"C:\\\\Users\\\\Administrator\\\\Desktop\\\\GosZakup\\\\Tools\\\\file.txt\",\n",
    "    }\n",
    "    for order in ['7541553-1']\n",
    "]"
   ]
  },
  {
   "cell_type": "code",
   "execution_count": 56,
   "id": "329425bb",
   "metadata": {},
   "outputs": [],
   "source": [
    "config = {\n",
    "    'cert_path': \"C:\\\\Users\\\\Administrator\\\\Desktop\\\\GosZakup\\\\Tools\\\\\\u042d\\u0426\\u041f\\\\GOSTKNCA_de113b5aa34a4d38ee8836c3e2ae2e3c8e23d06c.p12\",\n",
    "    'cert_password': 'baRsa01022020',\n",
    "    'portal_password': 'baRsa01022020',\n",
    "    \n",
    "    'telegram_token': \"5239766397:AAEzY_olnexkNaULo1GxK7ZlpO-9e1c6ewE\",\n",
    "    'chat_id': \"-751217779\",\n",
    "    \n",
    "    'items': items\n",
    "}"
   ]
  },
  {
   "cell_type": "code",
   "execution_count": null,
   "id": "4011b1aa",
   "metadata": {},
   "outputs": [],
   "source": []
  },
  {
   "cell_type": "code",
   "execution_count": 57,
   "id": "ea96cc57",
   "metadata": {},
   "outputs": [],
   "source": [
    "with open('../scrapy_parser/windows_config.json' , 'w') as f:\n",
    "    f.write(json.dumps(config, indent=4))"
   ]
  },
  {
   "cell_type": "code",
   "execution_count": null,
   "id": "f9f6e2e1",
   "metadata": {},
   "outputs": [],
   "source": []
  },
  {
   "cell_type": "code",
   "execution_count": null,
   "id": "ba5b986d",
   "metadata": {},
   "outputs": [],
   "source": [
    "#### WINDOWS BUT SOME OTHER GUY"
   ]
  },
  {
   "cell_type": "code",
   "execution_count": 51,
   "id": "390ca711",
   "metadata": {},
   "outputs": [],
   "source": [
    "items = [\n",
    "    {\n",
    "        'order': order,\n",
    "        'form11_order_id': '7338305-1',\n",
    "        \"address\": \"\\u041a\\u0430\\u0437\\u0430\\u0445\\u0441\\u0442\\u0430\\u043d, 750000000, 050000, \\u0433.\\u0410\\u043b\\u043c\\u0430\\u0442\\u044b, \\u0410\\u0419\\u0422\\u0415\\u041a\\u0415 \\u0411\\u0418, 134/1, 28\",\n",
    "        \"iik\": \"\\u0411\\u0430\\u043d\\u043a: \\u0410\\u041e \\\"ForteBank\\\" \\u0418\\u0418\\u041a: KZ0296502F0012955422 \\u0411\\u0418\\u041a: IRTYKZKA \\u041a\\u0411\\u0435: 15\",\n",
    "        'price_discount': 0.1,\n",
    "        'file_1': \"C:\\\\Users\\\\Administrator\\\\Desktop\\\\GosZakup\\\\Tools\\\\file.txt\",\n",
    "        'file_2': \"C:\\\\Users\\\\Administrator\\\\Desktop\\\\GosZakup\\\\Tools\\\\file.txt\",\n",
    "        'file_15': \"C:\\\\Users\\\\Administrator\\\\Desktop\\\\GosZakup\\\\Tools\\\\file.txt\",\n",
    "        'file_19': \"C:\\\\Users\\\\Administrator\\\\Desktop\\\\GosZakup\\\\Tools\\\\file.txt\",\n",
    "        'file_18': \"C:\\\\Users\\\\Administrator\\\\Desktop\\\\GosZakup\\\\Tools\\\\file.txt\",\n",
    "        'file_11': \"C:\\\\Users\\\\Administrator\\\\Desktop\\\\GosZakup\\\\Tools\\\\file.txt\",\n",
    "        'file_license_1': \"C:\\\\Users\\\\Administrator\\\\Desktop\\\\GosZakup\\\\Tools\\\\file.txt\",\n",
    "        'file_license_2': \"C:\\\\Users\\\\Administrator\\\\Desktop\\\\GosZakup\\\\Tools\\\\file.txt\",\n",
    "        'file_sertificates': \"C:\\\\Users\\\\Administrator\\\\Desktop\\\\GosZakup\\\\Tools\\\\file.txt\",\n",
    "        'file_NDS_register': \"C:\\\\Users\\\\Administrator\\\\Desktop\\\\GosZakup\\\\Tools\\\\file.txt\",\n",
    "    }\n",
    "    for order in ['7551349-1']\n",
    "]"
   ]
  },
  {
   "cell_type": "code",
   "execution_count": 52,
   "id": "8d04525d",
   "metadata": {},
   "outputs": [],
   "source": [
    "config = {\n",
    "    'cert_path': \"C:\\\\Users\\\\Administrator\\\\Desktop\\\\GosZakup\\\\Tools\\\\\\u042d\\u0426\\u041f\\\\GOSTKNCA_6ecebdd36be8f15c99245b067774e4f1fd862620.p12\",\n",
    "    'cert_password': 'Qwerty23',\n",
    "    'portal_password': 'Asdgg2020',\n",
    "    \n",
    "    'telegram_token': \"5239766397:AAEzY_olnexkNaULo1GxK7ZlpO-9e1c6ewE\",\n",
    "    'chat_id': \"-751217779\",\n",
    "    \n",
    "    'items': items\n",
    "}"
   ]
  },
  {
   "cell_type": "code",
   "execution_count": null,
   "id": "8f2af821",
   "metadata": {},
   "outputs": [],
   "source": []
  },
  {
   "cell_type": "code",
   "execution_count": 53,
   "id": "8c46a824",
   "metadata": {},
   "outputs": [],
   "source": [
    "with open('../scrapy_parser/windows_config.json' , 'w') as f:\n",
    "    f.write(json.dumps(config, indent=4))"
   ]
  },
  {
   "cell_type": "code",
   "execution_count": null,
   "id": "f92f46e1",
   "metadata": {},
   "outputs": [],
   "source": []
  },
  {
   "cell_type": "code",
   "execution_count": null,
   "id": "c1ab8b6b",
   "metadata": {},
   "outputs": [],
   "source": []
  },
  {
   "cell_type": "code",
   "execution_count": 12,
   "id": "a8ad3a11",
   "metadata": {},
   "outputs": [
    {
     "data": {
      "text/plain": [
       "datetime.datetime(2022, 5, 31, 9, 30)"
      ]
     },
     "execution_count": 12,
     "metadata": {},
     "output_type": "execute_result"
    }
   ],
   "source": [
    "from dateutil.parser import parse\n",
    "tt = parse('2022-05-31 09:30:00')\n",
    "tt"
   ]
  },
  {
   "cell_type": "code",
   "execution_count": 21,
   "id": "2dee8bf8",
   "metadata": {},
   "outputs": [],
   "source": [
    "from datetime import datetime"
   ]
  },
  {
   "cell_type": "code",
   "execution_count": 22,
   "id": "a493cd1e",
   "metadata": {},
   "outputs": [
    {
     "data": {
      "text/plain": [
       "False"
      ]
     },
     "execution_count": 22,
     "metadata": {},
     "output_type": "execute_result"
    }
   ],
   "source": [
    "datetime.now() > tt"
   ]
  },
  {
   "cell_type": "code",
   "execution_count": 24,
   "id": "42909fe0",
   "metadata": {},
   "outputs": [
    {
     "data": {
      "text/plain": [
       "datetime.datetime(2022, 5, 31, 9, 30)"
      ]
     },
     "execution_count": 24,
     "metadata": {},
     "output_type": "execute_result"
    }
   ],
   "source": [
    "tt"
   ]
  },
  {
   "cell_type": "code",
   "execution_count": 38,
   "id": "8b2c20dd",
   "metadata": {},
   "outputs": [
    {
     "data": {
      "text/plain": [
       "datetime.datetime(2022, 5, 15, 20, 42, 19, 615396)"
      ]
     },
     "execution_count": 38,
     "metadata": {},
     "output_type": "execute_result"
    }
   ],
   "source": [
    "datetime.now()"
   ]
  },
  {
   "cell_type": "code",
   "execution_count": 37,
   "id": "00fea37e",
   "metadata": {},
   "outputs": [
    {
     "data": {
      "text/plain": [
       "datetime.datetime(2022, 5, 15, 22, 42, 11, 801200, tzinfo=<DstTzInfo 'Asia/Almaty' +06+6:00:00 STD>)"
      ]
     },
     "execution_count": 37,
     "metadata": {},
     "output_type": "execute_result"
    }
   ],
   "source": [
    "datetime.now(pytz.timezone('Asia/Almaty'))"
   ]
  },
  {
   "cell_type": "code",
   "execution_count": null,
   "id": "fdba3635",
   "metadata": {},
   "outputs": [],
   "source": []
  },
  {
   "cell_type": "code",
   "execution_count": 32,
   "id": "6f2550ed",
   "metadata": {},
   "outputs": [],
   "source": [
    "import pytz"
   ]
  },
  {
   "cell_type": "code",
   "execution_count": 35,
   "id": "a4e17ce7",
   "metadata": {},
   "outputs": [
    {
     "data": {
      "text/plain": [
       "<DstTzInfo 'Asia/Almaty' LMT+5:08:00 STD>"
      ]
     },
     "execution_count": 35,
     "metadata": {},
     "output_type": "execute_result"
    }
   ],
   "source": []
  }
 ],
 "metadata": {
  "kernelspec": {
   "display_name": "Python 3 (ipykernel)",
   "language": "python",
   "name": "python3"
  },
  "language_info": {
   "codemirror_mode": {
    "name": "ipython",
    "version": 3
   },
   "file_extension": ".py",
   "mimetype": "text/x-python",
   "name": "python",
   "nbconvert_exporter": "python",
   "pygments_lexer": "ipython3",
   "version": "3.8.10"
  }
 },
 "nbformat": 4,
 "nbformat_minor": 5
}
