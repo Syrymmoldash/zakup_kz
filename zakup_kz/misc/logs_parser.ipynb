{
 "cells": [
  {
   "cell_type": "code",
   "execution_count": 34,
   "id": "3793e69c",
   "metadata": {},
   "outputs": [],
   "source": [
    "import os\n",
    "from dateutil.parser import parse"
   ]
  },
  {
   "cell_type": "code",
   "execution_count": 204,
   "id": "b9ba74be",
   "metadata": {},
   "outputs": [],
   "source": [
    "def load_records(directory):\n",
    "\n",
    "    records = []\n",
    "\n",
    "    for filename in os.listdir(directory):\n",
    "        \n",
    "        if not 'apply_' in filename:\n",
    "            continue\n",
    "\n",
    "        path = os.path.join(directory, filename)\n",
    "        data = list(open(path))\n",
    "\n",
    "        if any('SOME DOCUMENTS WERE NOT UPLOADED' in row for row in data):\n",
    "            print('SOME DOCUMENTS WERE NOT UPLOADED')\n",
    "            continue\n",
    "\n",
    "        record = {}\n",
    "\n",
    "        for row in data:\n",
    "            values = row.split(sep=' ')\n",
    "            t = values[1] if len(values) >= 2 else None\n",
    "\n",
    "            if 'looking for a previous application' in row:\n",
    "                record['start'] = parse(t)\n",
    "            elif 'documents upload is finished' in row:\n",
    "                record['docs_uploaded'] = parse(t)\n",
    "            elif 'affiliate requests are finished!' in row:\n",
    "                record['affiliate'] = parse(t)\n",
    "            elif 'WE WERE READY TO PUSBLISH BUT' in row:\n",
    "                record['end'] = parse(t)\n",
    "\n",
    "        if 'end' not in record:\n",
    "            print('failed upload', filename)\n",
    "            continue\n",
    "\n",
    "        records.append(record)\n",
    "        \n",
    "    return records"
   ]
  },
  {
   "cell_type": "code",
   "execution_count": null,
   "id": "862eaef6",
   "metadata": {},
   "outputs": [],
   "source": []
  },
  {
   "cell_type": "code",
   "execution_count": null,
   "id": "a6cae320",
   "metadata": {},
   "outputs": [],
   "source": []
  },
  {
   "cell_type": "code",
   "execution_count": 216,
   "id": "7cbec70c",
   "metadata": {},
   "outputs": [],
   "source": [
    "directory = '/home/necuk/Desktop/zakup_kz/scrapy_parser/logs/22_04_27/'\n",
    "# directory = '/home/necuk/Desktop/zakup_kz/scrapy_parser/logs/22_04_27_concur10_delay01/'\n",
    "# directory = '/home/necuk/Desktop/zakup_kz/scrapy_parser/logs/22_04_27_concur2_delay003/'"
   ]
  },
  {
   "cell_type": "code",
   "execution_count": 217,
   "id": "83050d2a",
   "metadata": {
    "scrolled": true
   },
   "outputs": [
    {
     "name": "stdout",
     "output_type": "stream",
     "text": [
      "failed upload apply_7367458-2_20_14_21.log\n",
      "failed upload apply_7475498-1_19_44_55.log\n",
      "failed upload apply_7475498-1_20_01_25.log\n"
     ]
    },
    {
     "data": {
      "text/plain": [
       "3"
      ]
     },
     "execution_count": 217,
     "metadata": {},
     "output_type": "execute_result"
    }
   ],
   "source": [
    "records = load_records(directory)\n",
    "len(records)"
   ]
  },
  {
   "cell_type": "code",
   "execution_count": 218,
   "id": "0934a5c7",
   "metadata": {},
   "outputs": [],
   "source": [
    "from matplotlib import pyplot as plt"
   ]
  },
  {
   "cell_type": "code",
   "execution_count": 219,
   "id": "1693f0b0",
   "metadata": {},
   "outputs": [
    {
     "data": {
      "text/plain": [
       "Text(0.5, 1.0, 'время на подачу документов')"
      ]
     },
     "execution_count": 219,
     "metadata": {},
     "output_type": "execute_result"
    },
    {
     "data": {
      "image/png": "[encoded data removed]",
      "text/plain": [
       "<Figure size 432x288 with 1 Axes>"
      ]
     },
     "metadata": {
      "needs_background": "light"
     },
     "output_type": "display_data"
    }
   ],
   "source": [
    "a = 'start'\n",
    "b = 'docs_uploaded'\n",
    "\n",
    "values = [(record[b] - record[a]).seconds for record in records]\n",
    "x = list(range(len(values)))\n",
    "\n",
    "plt.scatter(x, values)\n",
    "plt.ylim(0, 60)\n",
    "\n",
    "plt.xlabel('номер попытки', size=20)\n",
    "plt.ylabel('время (секунд)', size=20)\n",
    "\n",
    "plt.title('время на подачу документов', size=20)"
   ]
  },
  {
   "cell_type": "code",
   "execution_count": 220,
   "id": "26063436",
   "metadata": {},
   "outputs": [
    {
     "data": {
      "text/plain": [
       "Text(0.5, 1.0, 'время на подачу цен')"
      ]
     },
     "execution_count": 220,
     "metadata": {},
     "output_type": "execute_result"
    },
    {
     "data": {
      "image/png": "[encoded data removed]",
      "text/plain": [
       "<Figure size 432x288 with 1 Axes>"
      ]
     },
     "metadata": {
      "needs_background": "light"
     },
     "output_type": "display_data"
    }
   ],
   "source": [
    "a = 'affiliate'\n",
    "b = 'end'\n",
    "\n",
    "values = [(record[b] - record[a]).seconds for record in records]\n",
    "x = list(range(len(values)))\n",
    "\n",
    "plt.scatter(x, values)\n",
    "plt.ylim(0, 60)\n",
    "\n",
    "plt.xlabel('номер попытки', size=20)\n",
    "plt.ylabel('время (секунд)', size=20)\n",
    "\n",
    "plt.title('время на подачу цен', size=20)"
   ]
  },
  {
   "cell_type": "code",
   "execution_count": null,
   "id": "26756032",
   "metadata": {},
   "outputs": [],
   "source": []
  },
  {
   "cell_type": "code",
   "execution_count": null,
   "id": "2322e178",
   "metadata": {},
   "outputs": [],
   "source": []
  },
  {
   "cell_type": "code",
   "execution_count": 215,
   "id": "70bce7e2",
   "metadata": {},
   "outputs": [
    {
     "name": "stdout",
     "output_type": "stream",
     "text": [
      "while connecting: 113: No route to host\n"
     ]
    }
   ],
   "source": [
    "for filename in os.listdir(directory):\n",
    "\n",
    "    path = os.path.join(directory, filename)\n",
    "    data = list(open(path))\n",
    "\n",
    "    if any('while connecting: 113: No route to host' in row for row in data):\n",
    "        print('while connecting: 113: No route to host')\n",
    "        os.remove(path)\n",
    "        \n",
    "    elif any('KeyboardInterrupt' in row for row in data):\n",
    "        print('KeyboardInterrupt')\n",
    "        os.remove(path)"
   ]
  }
 ],
 "metadata": {
  "kernelspec": {
   "display_name": "Python 3 (ipykernel)",
   "language": "python",
   "name": "python3"
  },
  "language_info": {
   "codemirror_mode": {
    "name": "ipython",
    "version": 3
   },
   "file_extension": ".py",
   "mimetype": "text/x-python",
   "name": "python",
   "nbconvert_exporter": "python",
   "pygments_lexer": "ipython3",
   "version": "3.8.10"
  }
 },
 "nbformat": 4,
 "nbformat_minor": 5
}
