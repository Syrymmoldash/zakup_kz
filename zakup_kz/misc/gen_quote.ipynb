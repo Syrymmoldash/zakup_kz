{
 "cells": [
  {
   "cell_type": "code",
   "execution_count": 38,
   "id": "0abe59c8",
   "metadata": {},
   "outputs": [],
   "source": [
    "from urllib.parse import quote, unquote, quote_plus, urlencode\n",
    "\n",
    "from base64 import b64encode\n",
    "import json\n",
    "\n",
    "import requests\n",
    "\n",
    "from scrapy.http import HtmlResponse"
   ]
  },
  {
   "cell_type": "code",
   "execution_count": 5,
   "id": "e7c06fb5",
   "metadata": {},
   "outputs": [],
   "source": [
    "# def gen_xml_data(price):\n",
    "#     return (\n",
    "#         f'<?xml+version=\"1.0\"+encoding=\"UTF-8\"?>'    \n",
    "#         f'<priceoffer><trd_buy_id>{self.order_id}</trd_buy_id>'\n",
    "#         f'<trd_buy_lot_id>{price[\"buy_lot_id\"]}</trd_buy_lot_id>'\n",
    "#         f'<trd_buy_lot_point_id>{price[\"buy_lot_point_id\"]}</trd_buy_lot_point_id>'\n",
    "#         f'<price>{price[\"price\"]}</price></priceoffer>'\n",
    "#     )"
   ]
  },
  {
   "cell_type": "code",
   "execution_count": 37,
   "id": "c5b46014",
   "metadata": {},
   "outputs": [],
   "source": [
    "def get_new_token(response):\n",
    "    return response.headers['Set-Cookie'].split(\";\")[0].split('=')[1]"
   ]
  },
  {
   "cell_type": "code",
   "execution_count": 36,
   "id": "f70cb0ec",
   "metadata": {},
   "outputs": [],
   "source": [
    "def gen_lot_xml(order_id, buy_lot_id, buy_lot_point_id, price):\n",
    "    return (\n",
    "        f'<?xml version=\"1.0\" encoding=\"UTF-8\"?>'\n",
    "        f'<priceoffer>'\n",
    "        f'<trd_buy_id>{order_id}</trd_buy_id>'\n",
    "        f'<trd_buy_lot_id>{buy_lot_id}</trd_buy_lot_id>'\n",
    "        f'<trd_buy_lot_point_id>{buy_lot_point_id}</trd_buy_lot_point_id>'\n",
    "        f'<price>{price}</price>'\n",
    "        f'</priceoffer>'\n",
    "    )"
   ]
  },
  {
   "cell_type": "code",
   "execution_count": 18,
   "id": "10766d59",
   "metadata": {},
   "outputs": [],
   "source": [
    "def sign(string):\n",
    "    cert_path='/home/necuk/Downloads/key2/GOSTKNCA_de113b5aa34a4d38ee8836c3e2ae2e3c8e23d06c.p12'\n",
    "    with open (cert_path, 'rb') as f:\n",
    "        cert = b64encode(f.read()).decode('utf-8')\n",
    "    \n",
    "    data = {\n",
    "        \"version\": \"2.0\",\n",
    "        \"method\": \"cms.sign\",\n",
    "        \"params\": {\n",
    "            \"data\": b64encode(string.encode('utf-8')).decode('utf-8'),\n",
    "            \"p12array\": [\n",
    "                {\n",
    "                    \"alias\": \"\",\n",
    "                    \"p12\": cert,\n",
    "                    \"password\":\"baRsa01022020\"\n",
    "                }\n",
    "            ]\n",
    "        }\n",
    "    }\n",
    "    \n",
    "    \n",
    "    headers = {\n",
    "        'Content-Type': 'application/json'\n",
    "    }\n",
    "    \n",
    "    r = requests.post(\n",
    "        url='http://127.0.0.1:14579', \n",
    "        data=json.dumps(data),\n",
    "    #     data = data,\n",
    "        headers=headers\n",
    "    )\n",
    "\n",
    "    print(r.status_code)\n",
    "    \n",
    "    return json.loads(r.text)['cms']"
   ]
  },
  {
   "cell_type": "code",
   "execution_count": 39,
   "id": "0fc4a659",
   "metadata": {},
   "outputs": [],
   "source": [
    "class self:\n",
    "    price_discount = 0.1\n",
    "    order_id = '7196072'\n",
    "    application_id = '37069032'\n",
    "    user_agent = 'Mozilla/5.0 (X11; Linux x86_64) AppleWebKit/537.36 (KHTML, like Gecko) Chrome/99.0.4844.51 Safari/537.36'"
   ]
  },
  {
   "cell_type": "code",
   "execution_count": 3,
   "id": "ee5c0bad",
   "metadata": {
    "scrolled": true
   },
   "outputs": [],
   "source": [
    "prices = [{'price': 466087.63,\n",
    "  'buy_lot_id': '19114250',\n",
    "  'buy_lot_point_id': '18457975',\n",
    "  'app_lot_id': '34280541',\n",
    "  'xml_string': '<?xml version=\"1.0\" encoding=\"UTF-8\"?><priceoffer><trd_buy_id>7196072</trd_buy_id><trd_buy_lot_id>19114250</trd_buy_lot_id><trd_buy_lot_point_id>18457975</trd_buy_lot_point_id><price>466087.63</price></priceoffer>'},\n",
    " {'price': 247433.04,\n",
    "  'buy_lot_id': '19114251',\n",
    "  'buy_lot_point_id': '18457976',\n",
    "  'app_lot_id': '34280542',\n",
    "  'xml_string': '<?xml version=\"1.0\" encoding=\"UTF-8\"?><priceoffer><trd_buy_id>7196072</trd_buy_id><trd_buy_lot_id>19114251</trd_buy_lot_id><trd_buy_lot_point_id>18457976</trd_buy_lot_point_id><price>247433.04</price></priceoffer>'},\n",
    " {'price': 416330.36,\n",
    "  'buy_lot_id': '19114252',\n",
    "  'buy_lot_point_id': '18457977',\n",
    "  'app_lot_id': '34280543',\n",
    "  'xml_string': '<?xml version=\"1.0\" encoding=\"UTF-8\"?><priceoffer><trd_buy_id>7196072</trd_buy_id><trd_buy_lot_id>19114252</trd_buy_lot_id><trd_buy_lot_point_id>18457977</trd_buy_lot_point_id><price>416330.36</price></priceoffer>'}]"
   ]
  },
  {
   "cell_type": "code",
   "execution_count": 24,
   "id": "19e8e51e",
   "metadata": {},
   "outputs": [],
   "source": [
    "prices = prices[2:]"
   ]
  },
  {
   "cell_type": "code",
   "execution_count": 162,
   "id": "570127a6",
   "metadata": {},
   "outputs": [],
   "source": [
    "# for i, p in enumerate(prices):\n",
    "#     p['price'] = (i+1) * 111.11\n",
    "#     p['xml_string'] = gen_xml_string(p)"
   ]
  },
  {
   "cell_type": "code",
   "execution_count": null,
   "id": "9adc36c0",
   "metadata": {},
   "outputs": [],
   "source": []
  },
  {
   "cell_type": "code",
   "execution_count": 7,
   "id": "cf17df57",
   "metadata": {},
   "outputs": [],
   "source": [
    "data = 'xmlData%5B18457975%5D=%3C%3Fxml+version%3D%221.0%22+encoding%3D%22UTF-8%22%3F%3E%3Cpriceoffer%3E%3Ctrd_buy_id%3E7196072%3C%2Ftrd_buy_id%3E%3Ctrd_buy_lot_id%3E19114250%3C%2Ftrd_buy_lot_id%3E%3Ctrd_buy_lot_point_id%3E18457975%3C%2Ftrd_buy_lot_point_id%3E%3Cprice%3E111.11%3C%2Fprice%3E%3C%2Fpriceoffer%3E&xmlData%5B18457976%5D=%3C%3Fxml+version%3D%221.0%22+encoding%3D%22UTF-8%22%3F%3E%3Cpriceoffer%3E%3Ctrd_buy_id%3E7196072%3C%2Ftrd_buy_id%3E%3Ctrd_buy_lot_id%3E19114251%3C%2Ftrd_buy_lot_id%3E%3Ctrd_buy_lot_point_id%3E18457976%3C%2Ftrd_buy_lot_point_id%3E%3Cprice%3E222.22%3C%2Fprice%3E%3C%2Fpriceoffer%3E&xmlData%5B18457977%5D=%3C%3Fxml+version%3D%221.0%22+encoding%3D%22UTF-8%22%3F%3E%3Cpriceoffer%3E%3Ctrd_buy_id%3E7196072%3C%2Ftrd_buy_id%3E%3Ctrd_buy_lot_id%3E19114252%3C%2Ftrd_buy_lot_id%3E%3Ctrd_buy_lot_point_id%3E18457977%3C%2Ftrd_buy_lot_point_id%3E%3Cprice%3E333.33%3C%2Fprice%3E%3C%2Fpriceoffer%3E&signData%5B18457975%5D=MIIP7gYJKoZIhvcNAQcCoIIP3zCCD9sCAQExDjAMBggqgw4DCgEDAQUAMAsGCSqGSIb3DQEHAaCCBNowggTWMIIEgKADAgECAhQsEW5waAgTAPIdPyOMUwKjbFTsfjANBgkqgw4DCgEBAQIFADBTMQswCQYDVQQGEwJLWjFEMEIGA1UEAww70rDQm9Ci0KLQq9KaINCa0KPTmNCb0JDQndCU0KvQoNCj0KjQqyDQntCg0KLQkNCb0KvSmiAoR09TVCkwHhcNMjEwNjA0MDc1MTU1WhcNMjIwNjA0MDc1MTU1WjCCAXUxKjAoBgNVBAMMIdCa0JDQmdCT0J7QoNCe0JTQptCV0JLQkCDQnNCQ0JnQrzEhMB8GA1UEBAwY0JrQkNCZ0JPQntCg0J7QlNCm0JXQktCQMRgwFgYDVQQFEw9JSU44MzA1MDQ0MDAwNDkxCzAJBgNVBAYTAktaMYGcMIGZBgNVBAoMgZHQotCe0JLQkNCg0JjQqdCV0KHQotCS0J4g0KEg0J7Qk9Cg0JDQndCY0KfQldCd0J3QntCZINCe0KLQktCV0KLQodCi0JLQldCd0J3QntCh0KLQrNCuICLQmNCd0JbQmNCd0JjQoNCY0J3Qk9Ce0JLQkNCvINCa0J7QnNCf0JDQndCY0K8gItCb0JjQlNCV0KAiMRgwFgYDVQQLDA9CSU4xMTA5NDAwMDQ5MDkxIzAhBgNVBCoMGtCh0KLQkNCd0JjQodCb0JDQktCe0JLQndCQMR8wHQYJKoZIhvcNAQkBFhBDRU9ATEVBREVSRU5HLktaMGwwJQYJKoMOAwoBAQEBMBgGCiqDDgMKAQEBAQEGCiqDDgMKAQMBAQADQwAEQOTfqVEh24kddh%2FaZlKhpjjqrTqnPx9OQicP3VjyFBJs193DrOnsUHVCnqkhqXSwisiXvQmmBA6PHMNg0hX%2BaSejggH2MIIB8jAOBgNVHQ8BAf8EBAMCBsAwMwYDVR0lBCwwKgYIKwYBBQUHAwQGCCqDDgMDBAECBgkqgw4DAwQBAgEGCSqDDgMDBAMCATAPBgNVHSMECDAGgARbanPpMB0GA1UdDgQWBBTeETtao0pNOO6INsPiri48jiPQbDBeBgNVHSAEVzBVMFMGByqDDgMDAgEwSDAhBggrBgEFBQcCARYVaHR0cDovL3BraS5nb3Yua3ovY3BzMCMGCCsGAQUFBwICMBcMFWh0dHA6Ly9wa2kuZ292Lmt6L2NwczBYBgNVHR8EUTBPME2gS6BJhiJodHRwOi8vY3JsLnBraS5nb3Yua3ovbmNhX2dvc3QuY3JshiNodHRwOi8vY3JsMS5wa2kuZ292Lmt6L25jYV9nb3N0LmNybDBcBgNVHS4EVTBTMFGgT6BNhiRodHRwOi8vY3JsLnBraS5nb3Yua3ovbmNhX2RfZ29zdC5jcmyGJWh0dHA6Ly9jcmwxLnBraS5nb3Yua3ovbmNhX2RfZ29zdC5jcmwwYwYIKwYBBQUHAQEEVzBVMC8GCCsGAQUFBzAChiNodHRwOi8vcGtpLmdvdi5rei9jZXJ0L25jYV9nb3N0LmNlcjAiBggrBgEFBQcwAYYWaHR0cDovL29jc3AucGtpLmdvdi5rejANBgkqgw4DCgEBAQIFAANBAF6nzMbWq5xVRWa5wASYXDr9StJo7NnVQSskyKrwhdnNDoRbtZuNoPiM5nt4FmOCS4qp5wLGCJADSDgT5k%2F0yDExggrZMIIK1QIBATBrMFMxCzAJBgNVBAYTAktaMUQwQgYDVQQDDDvSsNCb0KLQotCr0pog0JrQo9OY0JvQkNCd0JTQq9Cg0KPQqNCrINCe0KDQotCQ0JvQq9KaIChHT1NUKQIULBFucGgIEwDyHT8jjFMCo2xU7H4wDAYIKoMOAwoBAwEFAKCBojAYBgkqhkiG9w0BCQMxCwYJKoZIhvcNAQcBMBwGCSqGSIb3DQEJBTEPFw0yMjAzMjUxOTMyMzJaMC8GCSqGSIb3DQEJBDEiBCBcAdl2F0R08L1Ftyim6p%2BnYFZUN2vCrbCQyIcgkusjjTA3BgsqhkiG9w0BCRACLzEoMCYwJDAiBCDtSxHdcyUCMLpJK8z8EZFN1Szhqk3bdjuIAn0o7cdZcTANBgkqgw4DCgEBAQIFAARAb4KAp%2FJmEPuxF0ZSOf9x5F%2BHRtNS0BBTj4Sy8jkLHUt9Xea0s5qI9vluM3ovmO4OLVp0TnSspZz2C6OqX1LbmaGCCV0wgglZBgsqhkiG9w0BCRACDjGCCUgwgglEBgkqhkiG9w0BBwKgggk1MIIJMQIBAzEPMA0GCWCGSAFlAwQCAQUAMIGEBgsqhkiG9w0BCRABBKB1BHMwcQIBAQYIKoMOAwMCBgIwMTANBglghkgBZQMEAgEFAAQgNLQBaUfeeBUkDugOElnk%2FYPRHUnytaNxEhfpQCm44kACFCtGJ3jLSq63YAycSsFhTIu%2FXu3fGA8yMDIyMDMyNTE5MzIzMloCCOy1JFbjznbuoIIGXjCCBlowggRCoAMCAQICFD2d5W1fJ5xdBux9i4OqUL3rQ300MA0GCSqGSIb3DQEBCwUAMFIxCzAJBgNVBAYTAktaMUMwQQYDVQQDDDrSsNCb0KLQotCr0pog0JrQo9OY0JvQkNCd0JTQq9Cg0KPQqNCrINCe0KDQotCQ0JvQq9KaIChSU0EpMB4XDTE5MTIxMjA1MjIwNVoXDTIyMTIxMTA1MjIwNVowggESMRQwEgYDVQQDDAtUU0EgU0VSVklDRTEYMBYGA1UEBRMPSUlONzYxMjMxMzAwMzEzMQswCQYDVQQGEwJLWjEcMBoGA1UEBwwT0J3Qo9CgLdCh0KPQm9Ci0JDQnTEcMBoGA1UECAwT0J3Qo9CgLdCh0KPQm9Ci0JDQnTF9MHsGA1UECgx00JDQmtCm0JjQntCd0JXQoNCd0J7QlSDQntCR0KnQldCh0KLQktCeICLQndCQ0KbQmNCe0J3QkNCb0KzQndCr0JUg0JjQndCk0J7QoNCc0JDQptCY0J7QndCd0KvQlSDQotCV0KXQndCe0JvQntCT0JjQmCIxGDAWBgNVBAsMD0JJTjAwMDc0MDAwMDcyODCCASIwDQYJKoZIhvcNAQEBBQADggEPADCCAQoCggEBAIuFfpSCo5uenI8Cn9234hpG8uQZnRMBT2QwrndJaxIAHAMEQ9T3sxi2KWDL2mJArmVs48gdhhkm9JRVQCnYGb%2BOZ%2BnmePaeU826nawS83OVlJggIxbtAE4xdr8n2jCKMqjYgaQjXtllIC3NV5LvnZFeaoy%2Fndih%2Bo3iNbiSfEoWsX1xB8MW7ZHIqZBnHYOQnnpSW9TRejYF4B%2BFC4Sr70IXFRYHuicNJZo4V9ijGiacBA3WWOITxOPd0TZcd54G4kNFSSzocGiqMLVtWGNWBKzRtqxHPKdvoK2M3oZ5Ihqzjf0RnuS30HSQsXzGtYE1d7b7y%2BR5fr%2BpWdfp3C2ECdUCAwEAAaOCAWQwggFgMBYGA1UdJQEB%2FwQMMAoGCCsGAQUFBwMIMA8GA1UdIwQIMAaABFtqdBEwHQYDVR0OBBYEFFqrRbGX3k3FKok5zH%2FA2RUXLTKfMFYGA1UdHwRPME0wS6BJoEeGIWh0dHA6Ly9jcmwucGtpLmdvdi5rei9uY2FfcnNhLmNybIYiaHR0cDovL2NybDEucGtpLmdvdi5rei9uY2FfcnNhLmNybDBaBgNVHS4EUzBRME%2BgTaBLhiNodHRwOi8vY3JsLnBraS5nb3Yua3ovbmNhX2RfcnNhLmNybIYkaHR0cDovL2NybDEucGtpLmdvdi5rei9uY2FfZF9yc2EuY3JsMGIGCCsGAQUFBwEBBFYwVDAuBggrBgEFBQcwAoYiaHR0cDovL3BraS5nb3Yua3ovY2VydC9uY2FfcnNhLmNlcjAiBggrBgEFBQcwAYYWaHR0cDovL29jc3AucGtpLmdvdi5rejANBgkqhkiG9w0BAQsFAAOCAgEApPnpRXedzDgnZBPKJPhOJ8dWXzuNu65vSymgTH1hDXwE1lR90n5kZvu%2FkHO1shsId6TEg6X%2F1IE6Gp8992JsTezkxUexb6MdWWnUYjNhuPYzsYfBMG%2BZ%2BUMjMhf2ER5SUjDiEXrdwqKkRPF5HfzuKEdQfjoFctYveqirISBdEOUIGD0LCiqqTD7W5dAIQaVbJZLGCG5nKgZ8rvzYPyQJU3AqizXeHglOWLxINWmYs69NCqmvk6XI7oFVyVe8UTLQ%2BqMtl1MfrNTvSHtU2Uei2n2NKcN1oof5E2RDASf3ImNDeSJuFKzIXnwdc9xmesfUCBVJJLgt4HU6RHh%2B5StrR%2BWz7%2FOYBoVuhUE0YMSM%2FH74BrKbI6k8rmPw08QoU1v4cfYEH2jGzrJt4IephTkvxbv8ENcJX5LpUUux6oJHLTIzTU9q1BjitoODmV2EmmBn1hzU%2BYaSPEffIztXt8zuoVrH1gkT1s5bzc4nqc63OYur6XSTf6d66%2B2mavaVSQObNcYPz6YPnQFbDHzUy16oxX4FxlhnFSwul6gZg4b9kYh1BTdpXTGrfo4hD%2Fc%2F4xF3OHWxprGnWb9uFxJqthhHkwEHloMcZaR5xSLT7kE4Lpy5uRz9qh4DVcbSTw2sqCJx%2F57YioRy7GUssbhG51%2BYBnDG9OEF7xhV6xdvF%2FSVVvwxggIwMIICLAIBATBqMFIxCzAJBgNVBAYTAktaMUMwQQYDVQQDDDrSsNCb0KLQotCr0pog0JrQo9OY0JvQkNCd0JTQq9Cg0KPQqNCrINCe0KDQotCQ0JvQq9KaIChSU0EpAhQ9neVtXyecXQbsfYuDqlC960N9NDANBglghkgBZQMEAgEFAKCBmDAaBgkqhkiG9w0BCQMxDQYLKoZIhvcNAQkQAQQwHAYJKoZIhvcNAQkFMQ8XDTIyMDMyNTE5MzIzMlowKwYLKoZIhvcNAQkQAgwxHDAaMBgwFgQUyyVFl1vW4xC%2B7Z6ZVsJ4kYybLQgwLwYJKoZIhvcNAQkEMSIEIMoYCtIgp39pQ18Ctyx6UuRYxI8afS%2BI0DpBJWlbaUGJMA0GCSqGSIb3DQEBCwUABIIBAFp9U%2B%2FeaDanBMyzRwW4JVw5YQKHiJc5skdygAevMYG0U3D3mVJ3zpiG1BpnugdJW3UrGgAIGLRsxYVYpJeJsRcV50EWIVFnZ%2Bk9dvJQdlgCmQcG%2BEuxrZBN6evlTIF9BVLuCqvk46RfrhOibWMJwXpzhG9ojMCSHI06ljT5QeCko%2FoVlTkgCR1Yt1iYm%2FlWCFk2l7mClUYkdC%2FahzL94MmYGf5rRIykKpImD2lS4tandML1veY%2BHu3YPWRjOQ4%2FCUzyDi5gVQixo2Ddu%2BdT8JDs7oB9BhyZxMSKvcCU2%2FGyLjmqrX%2Boq%2FzJ5yfRMKXvlb3v%2BNdR48WIUwBasRCBlIs%3D&signData%5B18457976%5D=MIIP7gYJKoZIhvcNAQcCoIIP3zCCD9sCAQExDjAMBggqgw4DCgEDAQUAMAsGCSqGSIb3DQEHAaCCBNowggTWMIIEgKADAgECAhQsEW5waAgTAPIdPyOMUwKjbFTsfjANBgkqgw4DCgEBAQIFADBTMQswCQYDVQQGEwJLWjFEMEIGA1UEAww70rDQm9Ci0KLQq9KaINCa0KPTmNCb0JDQndCU0KvQoNCj0KjQqyDQntCg0KLQkNCb0KvSmiAoR09TVCkwHhcNMjEwNjA0MDc1MTU1WhcNMjIwNjA0MDc1MTU1WjCCAXUxKjAoBgNVBAMMIdCa0JDQmdCT0J7QoNCe0JTQptCV0JLQkCDQnNCQ0JnQrzEhMB8GA1UEBAwY0JrQkNCZ0JPQntCg0J7QlNCm0JXQktCQMRgwFgYDVQQFEw9JSU44MzA1MDQ0MDAwNDkxCzAJBgNVBAYTAktaMYGcMIGZBgNVBAoMgZHQotCe0JLQkNCg0JjQqdCV0KHQotCS0J4g0KEg0J7Qk9Cg0JDQndCY0KfQldCd0J3QntCZINCe0KLQktCV0KLQodCi0JLQldCd0J3QntCh0KLQrNCuICLQmNCd0JbQmNCd0JjQoNCY0J3Qk9Ce0JLQkNCvINCa0J7QnNCf0JDQndCY0K8gItCb0JjQlNCV0KAiMRgwFgYDVQQLDA9CSU4xMTA5NDAwMDQ5MDkxIzAhBgNVBCoMGtCh0KLQkNCd0JjQodCb0JDQktCe0JLQndCQMR8wHQYJKoZIhvcNAQkBFhBDRU9ATEVBREVSRU5HLktaMGwwJQYJKoMOAwoBAQEBMBgGCiqDDgMKAQEBAQEGCiqDDgMKAQMBAQADQwAEQOTfqVEh24kddh%2FaZlKhpjjqrTqnPx9OQicP3VjyFBJs193DrOnsUHVCnqkhqXSwisiXvQmmBA6PHMNg0hX%2BaSejggH2MIIB8jAOBgNVHQ8BAf8EBAMCBsAwMwYDVR0lBCwwKgYIKwYBBQUHAwQGCCqDDgMDBAECBgkqgw4DAwQBAgEGCSqDDgMDBAMCATAPBgNVHSMECDAGgARbanPpMB0GA1UdDgQWBBTeETtao0pNOO6INsPiri48jiPQbDBeBgNVHSAEVzBVMFMGByqDDgMDAgEwSDAhBggrBgEFBQcCARYVaHR0cDovL3BraS5nb3Yua3ovY3BzMCMGCCsGAQUFBwICMBcMFWh0dHA6Ly9wa2kuZ292Lmt6L2NwczBYBgNVHR8EUTBPME2gS6BJhiJodHRwOi8vY3JsLnBraS5nb3Yua3ovbmNhX2dvc3QuY3JshiNodHRwOi8vY3JsMS5wa2kuZ292Lmt6L25jYV9nb3N0LmNybDBcBgNVHS4EVTBTMFGgT6BNhiRodHRwOi8vY3JsLnBraS5nb3Yua3ovbmNhX2RfZ29zdC5jcmyGJWh0dHA6Ly9jcmwxLnBraS5nb3Yua3ovbmNhX2RfZ29zdC5jcmwwYwYIKwYBBQUHAQEEVzBVMC8GCCsGAQUFBzAChiNodHRwOi8vcGtpLmdvdi5rei9jZXJ0L25jYV9nb3N0LmNlcjAiBggrBgEFBQcwAYYWaHR0cDovL29jc3AucGtpLmdvdi5rejANBgkqgw4DCgEBAQIFAANBAF6nzMbWq5xVRWa5wASYXDr9StJo7NnVQSskyKrwhdnNDoRbtZuNoPiM5nt4FmOCS4qp5wLGCJADSDgT5k%2F0yDExggrZMIIK1QIBATBrMFMxCzAJBgNVBAYTAktaMUQwQgYDVQQDDDvSsNCb0KLQotCr0pog0JrQo9OY0JvQkNCd0JTQq9Cg0KPQqNCrINCe0KDQotCQ0JvQq9KaIChHT1NUKQIULBFucGgIEwDyHT8jjFMCo2xU7H4wDAYIKoMOAwoBAwEFAKCBojAYBgkqhkiG9w0BCQMxCwYJKoZIhvcNAQcBMBwGCSqGSIb3DQEJBTEPFw0yMjAzMjUxOTMyMzJaMC8GCSqGSIb3DQEJBDEiBCBMtLCV6Ji1UFFtLAudeTlQ%2F9rrDWE4mlXeUgExqNEyBTA3BgsqhkiG9w0BCRACLzEoMCYwJDAiBCDtSxHdcyUCMLpJK8z8EZFN1Szhqk3bdjuIAn0o7cdZcTANBgkqgw4DCgEBAQIFAARAThW1cyaNCwYFSu3l5Vnv4ZGqmr437hZxGSeyJUBRdgTJ95NcrOxbrD3bIHayVNbeWW%2BAWJNiuutO1BEwbrGbSaGCCV0wgglZBgsqhkiG9w0BCRACDjGCCUgwgglEBgkqhkiG9w0BBwKgggk1MIIJMQIBAzEPMA0GCWCGSAFlAwQCAQUAMIGEBgsqhkiG9w0BCRABBKB1BHMwcQIBAQYIKoMOAwMCBgIwMTANBglghkgBZQMEAgEFAAQg%2BXmv62ji8PITiVcWR%2FaNCh2gZ3t0KuObzo9DyirAXooCFJxv8wJVq8dVPhxongnro6bLkAUXGA8yMDIyMDMyNTE5MzIzMloCCJtQLUTkU61KoIIGXjCCBlowggRCoAMCAQICFD2d5W1fJ5xdBux9i4OqUL3rQ300MA0GCSqGSIb3DQEBCwUAMFIxCzAJBgNVBAYTAktaMUMwQQYDVQQDDDrSsNCb0KLQotCr0pog0JrQo9OY0JvQkNCd0JTQq9Cg0KPQqNCrINCe0KDQotCQ0JvQq9KaIChSU0EpMB4XDTE5MTIxMjA1MjIwNVoXDTIyMTIxMTA1MjIwNVowggESMRQwEgYDVQQDDAtUU0EgU0VSVklDRTEYMBYGA1UEBRMPSUlONzYxMjMxMzAwMzEzMQswCQYDVQQGEwJLWjEcMBoGA1UEBwwT0J3Qo9CgLdCh0KPQm9Ci0JDQnTEcMBoGA1UECAwT0J3Qo9CgLdCh0KPQm9Ci0JDQnTF9MHsGA1UECgx00JDQmtCm0JjQntCd0JXQoNCd0J7QlSDQntCR0KnQldCh0KLQktCeICLQndCQ0KbQmNCe0J3QkNCb0KzQndCr0JUg0JjQndCk0J7QoNCc0JDQptCY0J7QndCd0KvQlSDQotCV0KXQndCe0JvQntCT0JjQmCIxGDAWBgNVBAsMD0JJTjAwMDc0MDAwMDcyODCCASIwDQYJKoZIhvcNAQEBBQADggEPADCCAQoCggEBAIuFfpSCo5uenI8Cn9234hpG8uQZnRMBT2QwrndJaxIAHAMEQ9T3sxi2KWDL2mJArmVs48gdhhkm9JRVQCnYGb%2BOZ%2BnmePaeU826nawS83OVlJggIxbtAE4xdr8n2jCKMqjYgaQjXtllIC3NV5LvnZFeaoy%2Fndih%2Bo3iNbiSfEoWsX1xB8MW7ZHIqZBnHYOQnnpSW9TRejYF4B%2BFC4Sr70IXFRYHuicNJZo4V9ijGiacBA3WWOITxOPd0TZcd54G4kNFSSzocGiqMLVtWGNWBKzRtqxHPKdvoK2M3oZ5Ihqzjf0RnuS30HSQsXzGtYE1d7b7y%2BR5fr%2BpWdfp3C2ECdUCAwEAAaOCAWQwggFgMBYGA1UdJQEB%2FwQMMAoGCCsGAQUFBwMIMA8GA1UdIwQIMAaABFtqdBEwHQYDVR0OBBYEFFqrRbGX3k3FKok5zH%2FA2RUXLTKfMFYGA1UdHwRPME0wS6BJoEeGIWh0dHA6Ly9jcmwucGtpLmdvdi5rei9uY2FfcnNhLmNybIYiaHR0cDovL2NybDEucGtpLmdvdi5rei9uY2FfcnNhLmNybDBaBgNVHS4EUzBRME%2BgTaBLhiNodHRwOi8vY3JsLnBraS5nb3Yua3ovbmNhX2RfcnNhLmNybIYkaHR0cDovL2NybDEucGtpLmdvdi5rei9uY2FfZF9yc2EuY3JsMGIGCCsGAQUFBwEBBFYwVDAuBggrBgEFBQcwAoYiaHR0cDovL3BraS5nb3Yua3ovY2VydC9uY2FfcnNhLmNlcjAiBggrBgEFBQcwAYYWaHR0cDovL29jc3AucGtpLmdvdi5rejANBgkqhkiG9w0BAQsFAAOCAgEApPnpRXedzDgnZBPKJPhOJ8dWXzuNu65vSymgTH1hDXwE1lR90n5kZvu%2FkHO1shsId6TEg6X%2F1IE6Gp8992JsTezkxUexb6MdWWnUYjNhuPYzsYfBMG%2BZ%2BUMjMhf2ER5SUjDiEXrdwqKkRPF5HfzuKEdQfjoFctYveqirISBdEOUIGD0LCiqqTD7W5dAIQaVbJZLGCG5nKgZ8rvzYPyQJU3AqizXeHglOWLxINWmYs69NCqmvk6XI7oFVyVe8UTLQ%2BqMtl1MfrNTvSHtU2Uei2n2NKcN1oof5E2RDASf3ImNDeSJuFKzIXnwdc9xmesfUCBVJJLgt4HU6RHh%2B5StrR%2BWz7%2FOYBoVuhUE0YMSM%2FH74BrKbI6k8rmPw08QoU1v4cfYEH2jGzrJt4IephTkvxbv8ENcJX5LpUUux6oJHLTIzTU9q1BjitoODmV2EmmBn1hzU%2BYaSPEffIztXt8zuoVrH1gkT1s5bzc4nqc63OYur6XSTf6d66%2B2mavaVSQObNcYPz6YPnQFbDHzUy16oxX4FxlhnFSwul6gZg4b9kYh1BTdpXTGrfo4hD%2Fc%2F4xF3OHWxprGnWb9uFxJqthhHkwEHloMcZaR5xSLT7kE4Lpy5uRz9qh4DVcbSTw2sqCJx%2F57YioRy7GUssbhG51%2BYBnDG9OEF7xhV6xdvF%2FSVVvwxggIwMIICLAIBATBqMFIxCzAJBgNVBAYTAktaMUMwQQYDVQQDDDrSsNCb0KLQotCr0pog0JrQo9OY0JvQkNCd0JTQq9Cg0KPQqNCrINCe0KDQotCQ0JvQq9KaIChSU0EpAhQ9neVtXyecXQbsfYuDqlC960N9NDANBglghkgBZQMEAgEFAKCBmDAaBgkqhkiG9w0BCQMxDQYLKoZIhvcNAQkQAQQwHAYJKoZIhvcNAQkFMQ8XDTIyMDMyNTE5MzIzMlowKwYLKoZIhvcNAQkQAgwxHDAaMBgwFgQUyyVFl1vW4xC%2B7Z6ZVsJ4kYybLQgwLwYJKoZIhvcNAQkEMSIEIHXsef8DZLj3D%2FcmpxpqaWa5hf3iaxZnZ5zb2REu8COzMA0GCSqGSIb3DQEBCwUABIIBAG65V3st8W3tAvq974mF11opa%2F2EdBoEEmwG5MVmVkJ7fGc54n%2F0XKqEscrXPAHKJbvD2LWlqLJz%2FuKNVW87lN0BuOYm00JeD2nHZxO08OHLAa8mItsQdy0ujQBCjw7dSxIVSR1LbpmkaQIFloBC93P3wCMnbQbmLFJKEgpKpzl1rL75kOzUluU9ZCRi6NjYPKFYfzAkhiF38MGL56AQ%2B5SionZAtBZclHuhbrTLa0R5pNWWezAAY7N1w9dooZBWRoiu61asoHaoo%2BtzWhSF7y6Ckvej7fJerDvxr%2FgaiBzmqL3XGOcl5Z4SnSvMhgfGn%2F8n0LhdlvSY5eKdi64R1Tc%3D&signData%5B18457977%5D=MIIP7gYJKoZIhvcNAQcCoIIP3zCCD9sCAQExDjAMBggqgw4DCgEDAQUAMAsGCSqGSIb3DQEHAaCCBNowggTWMIIEgKADAgECAhQsEW5waAgTAPIdPyOMUwKjbFTsfjANBgkqgw4DCgEBAQIFADBTMQswCQYDVQQGEwJLWjFEMEIGA1UEAww70rDQm9Ci0KLQq9KaINCa0KPTmNCb0JDQndCU0KvQoNCj0KjQqyDQntCg0KLQkNCb0KvSmiAoR09TVCkwHhcNMjEwNjA0MDc1MTU1WhcNMjIwNjA0MDc1MTU1WjCCAXUxKjAoBgNVBAMMIdCa0JDQmdCT0J7QoNCe0JTQptCV0JLQkCDQnNCQ0JnQrzEhMB8GA1UEBAwY0JrQkNCZ0JPQntCg0J7QlNCm0JXQktCQMRgwFgYDVQQFEw9JSU44MzA1MDQ0MDAwNDkxCzAJBgNVBAYTAktaMYGcMIGZBgNVBAoMgZHQotCe0JLQkNCg0JjQqdCV0KHQotCS0J4g0KEg0J7Qk9Cg0JDQndCY0KfQldCd0J3QntCZINCe0KLQktCV0KLQodCi0JLQldCd0J3QntCh0KLQrNCuICLQmNCd0JbQmNCd0JjQoNCY0J3Qk9Ce0JLQkNCvINCa0J7QnNCf0JDQndCY0K8gItCb0JjQlNCV0KAiMRgwFgYDVQQLDA9CSU4xMTA5NDAwMDQ5MDkxIzAhBgNVBCoMGtCh0KLQkNCd0JjQodCb0JDQktCe0JLQndCQMR8wHQYJKoZIhvcNAQkBFhBDRU9ATEVBREVSRU5HLktaMGwwJQYJKoMOAwoBAQEBMBgGCiqDDgMKAQEBAQEGCiqDDgMKAQMBAQADQwAEQOTfqVEh24kddh%2FaZlKhpjjqrTqnPx9OQicP3VjyFBJs193DrOnsUHVCnqkhqXSwisiXvQmmBA6PHMNg0hX%2BaSejggH2MIIB8jAOBgNVHQ8BAf8EBAMCBsAwMwYDVR0lBCwwKgYIKwYBBQUHAwQGCCqDDgMDBAECBgkqgw4DAwQBAgEGCSqDDgMDBAMCATAPBgNVHSMECDAGgARbanPpMB0GA1UdDgQWBBTeETtao0pNOO6INsPiri48jiPQbDBeBgNVHSAEVzBVMFMGByqDDgMDAgEwSDAhBggrBgEFBQcCARYVaHR0cDovL3BraS5nb3Yua3ovY3BzMCMGCCsGAQUFBwICMBcMFWh0dHA6Ly9wa2kuZ292Lmt6L2NwczBYBgNVHR8EUTBPME2gS6BJhiJodHRwOi8vY3JsLnBraS5nb3Yua3ovbmNhX2dvc3QuY3JshiNodHRwOi8vY3JsMS5wa2kuZ292Lmt6L25jYV9nb3N0LmNybDBcBgNVHS4EVTBTMFGgT6BNhiRodHRwOi8vY3JsLnBraS5nb3Yua3ovbmNhX2RfZ29zdC5jcmyGJWh0dHA6Ly9jcmwxLnBraS5nb3Yua3ovbmNhX2RfZ29zdC5jcmwwYwYIKwYBBQUHAQEEVzBVMC8GCCsGAQUFBzAChiNodHRwOi8vcGtpLmdvdi5rei9jZXJ0L25jYV9nb3N0LmNlcjAiBggrBgEFBQcwAYYWaHR0cDovL29jc3AucGtpLmdvdi5rejANBgkqgw4DCgEBAQIFAANBAF6nzMbWq5xVRWa5wASYXDr9StJo7NnVQSskyKrwhdnNDoRbtZuNoPiM5nt4FmOCS4qp5wLGCJADSDgT5k%2F0yDExggrZMIIK1QIBATBrMFMxCzAJBgNVBAYTAktaMUQwQgYDVQQDDDvSsNCb0KLQotCr0pog0JrQo9OY0JvQkNCd0JTQq9Cg0KPQqNCrINCe0KDQotCQ0JvQq9KaIChHT1NUKQIULBFucGgIEwDyHT8jjFMCo2xU7H4wDAYIKoMOAwoBAwEFAKCBojAYBgkqhkiG9w0BCQMxCwYJKoZIhvcNAQcBMBwGCSqGSIb3DQEJBTEPFw0yMjAzMjUxOTMyMzFaMC8GCSqGSIb3DQEJBDEiBCAauslNJ6XKaCSKNO5RmeRFZTW4sE7RCdQc%2B7XRuF1KqDA3BgsqhkiG9w0BCRACLzEoMCYwJDAiBCDtSxHdcyUCMLpJK8z8EZFN1Szhqk3bdjuIAn0o7cdZcTANBgkqgw4DCgEBAQIFAARA3laKz7bun8TRbTvCDryP05gTUeEgdRmuqFmPWSJ2JIWYClNMGI4DROHRmlQCtUb%2B0Idl%2BCNoONhsl%2Fg8Y0cU7aGCCV0wgglZBgsqhkiG9w0BCRACDjGCCUgwgglEBgkqhkiG9w0BBwKgggk1MIIJMQIBAzEPMA0GCWCGSAFlAwQCAQUAMIGEBgsqhkiG9w0BCRABBKB1BHMwcQIBAQYIKoMOAwMCBgIwMTANBglghkgBZQMEAgEFAAQgt0oLTcCCAKvm%2FpUK8qZwnsPxseo7dBXwNNixsueOCW4CFJdhLhgUYpIqK6iOQz682FjR1oWMGA8yMDIyMDMyNTE5MzIzMloCCOq6KliOwFe%2BoIIGXjCCBlowggRCoAMCAQICFD2d5W1fJ5xdBux9i4OqUL3rQ300MA0GCSqGSIb3DQEBCwUAMFIxCzAJBgNVBAYTAktaMUMwQQYDVQQDDDrSsNCb0KLQotCr0pog0JrQo9OY0JvQkNCd0JTQq9Cg0KPQqNCrINCe0KDQotCQ0JvQq9KaIChSU0EpMB4XDTE5MTIxMjA1MjIwNVoXDTIyMTIxMTA1MjIwNVowggESMRQwEgYDVQQDDAtUU0EgU0VSVklDRTEYMBYGA1UEBRMPSUlONzYxMjMxMzAwMzEzMQswCQYDVQQGEwJLWjEcMBoGA1UEBwwT0J3Qo9CgLdCh0KPQm9Ci0JDQnTEcMBoGA1UECAwT0J3Qo9CgLdCh0KPQm9Ci0JDQnTF9MHsGA1UECgx00JDQmtCm0JjQntCd0JXQoNCd0J7QlSDQntCR0KnQldCh0KLQktCeICLQndCQ0KbQmNCe0J3QkNCb0KzQndCr0JUg0JjQndCk0J7QoNCc0JDQptCY0J7QndCd0KvQlSDQotCV0KXQndCe0JvQntCT0JjQmCIxGDAWBgNVBAsMD0JJTjAwMDc0MDAwMDcyODCCASIwDQYJKoZIhvcNAQEBBQADggEPADCCAQoCggEBAIuFfpSCo5uenI8Cn9234hpG8uQZnRMBT2QwrndJaxIAHAMEQ9T3sxi2KWDL2mJArmVs48gdhhkm9JRVQCnYGb%2BOZ%2BnmePaeU826nawS83OVlJggIxbtAE4xdr8n2jCKMqjYgaQjXtllIC3NV5LvnZFeaoy%2Fndih%2Bo3iNbiSfEoWsX1xB8MW7ZHIqZBnHYOQnnpSW9TRejYF4B%2BFC4Sr70IXFRYHuicNJZo4V9ijGiacBA3WWOITxOPd0TZcd54G4kNFSSzocGiqMLVtWGNWBKzRtqxHPKdvoK2M3oZ5Ihqzjf0RnuS30HSQsXzGtYE1d7b7y%2BR5fr%2BpWdfp3C2ECdUCAwEAAaOCAWQwggFgMBYGA1UdJQEB%2FwQMMAoGCCsGAQUFBwMIMA8GA1UdIwQIMAaABFtqdBEwHQYDVR0OBBYEFFqrRbGX3k3FKok5zH%2FA2RUXLTKfMFYGA1UdHwRPME0wS6BJoEeGIWh0dHA6Ly9jcmwucGtpLmdvdi5rei9uY2FfcnNhLmNybIYiaHR0cDovL2NybDEucGtpLmdvdi5rei9uY2FfcnNhLmNybDBaBgNVHS4EUzBRME%2BgTaBLhiNodHRwOi8vY3JsLnBraS5nb3Yua3ovbmNhX2RfcnNhLmNybIYkaHR0cDovL2NybDEucGtpLmdvdi5rei9uY2FfZF9yc2EuY3JsMGIGCCsGAQUFBwEBBFYwVDAuBggrBgEFBQcwAoYiaHR0cDovL3BraS5nb3Yua3ovY2VydC9uY2FfcnNhLmNlcjAiBggrBgEFBQcwAYYWaHR0cDovL29jc3AucGtpLmdvdi5rejANBgkqhkiG9w0BAQsFAAOCAgEApPnpRXedzDgnZBPKJPhOJ8dWXzuNu65vSymgTH1hDXwE1lR90n5kZvu%2FkHO1shsId6TEg6X%2F1IE6Gp8992JsTezkxUexb6MdWWnUYjNhuPYzsYfBMG%2BZ%2BUMjMhf2ER5SUjDiEXrdwqKkRPF5HfzuKEdQfjoFctYveqirISBdEOUIGD0LCiqqTD7W5dAIQaVbJZLGCG5nKgZ8rvzYPyQJU3AqizXeHglOWLxINWmYs69NCqmvk6XI7oFVyVe8UTLQ%2BqMtl1MfrNTvSHtU2Uei2n2NKcN1oof5E2RDASf3ImNDeSJuFKzIXnwdc9xmesfUCBVJJLgt4HU6RHh%2B5StrR%2BWz7%2FOYBoVuhUE0YMSM%2FH74BrKbI6k8rmPw08QoU1v4cfYEH2jGzrJt4IephTkvxbv8ENcJX5LpUUux6oJHLTIzTU9q1BjitoODmV2EmmBn1hzU%2BYaSPEffIztXt8zuoVrH1gkT1s5bzc4nqc63OYur6XSTf6d66%2B2mavaVSQObNcYPz6YPnQFbDHzUy16oxX4FxlhnFSwul6gZg4b9kYh1BTdpXTGrfo4hD%2Fc%2F4xF3OHWxprGnWb9uFxJqthhHkwEHloMcZaR5xSLT7kE4Lpy5uRz9qh4DVcbSTw2sqCJx%2F57YioRy7GUssbhG51%2BYBnDG9OEF7xhV6xdvF%2FSVVvwxggIwMIICLAIBATBqMFIxCzAJBgNVBAYTAktaMUMwQQYDVQQDDDrSsNCb0KLQotCr0pog0JrQo9OY0JvQkNCd0JTQq9Cg0KPQqNCrINCe0KDQotCQ0JvQq9KaIChSU0EpAhQ9neVtXyecXQbsfYuDqlC960N9NDANBglghkgBZQMEAgEFAKCBmDAaBgkqhkiG9w0BCQMxDQYLKoZIhvcNAQkQAQQwHAYJKoZIhvcNAQkFMQ8XDTIyMDMyNTE5MzIzMlowKwYLKoZIhvcNAQkQAgwxHDAaMBgwFgQUyyVFl1vW4xC%2B7Z6ZVsJ4kYybLQgwLwYJKoZIhvcNAQkEMSIEIDuBi30sEz0YBIeANW6t5gRk%2F6DOVLqHWmic7KFALJqmMA0GCSqGSIb3DQEBCwUABIIBAFrFTPKNlwEOEld27PGdGjCUYodCfz%2FXAXDVveUm%2BbUdThPmdOZv6sFwB30o%2FcfhcpDclZ8MrVjxx%2Bexvg5zS8oH3BO%2FlY3Rtt9ctxyK8UmheOOLmyXh%2BIKMa3KgKYT2wHvU0cSsQXzt%2BlXktHKVHJ46qR3TgpgNQj5%2BKrCJ6SmAlP1n2G%2BPPZ2uJLnkVi8fGOitqj3zjvOdPzpTzwOwDmRyKuEe7U%2FpHogfizMyoSOLu7Xwb4knHsqPDkF8l40u%2FV2eW%2ByuiAtU0tNOcOOgthOvUVxXO2zHsoTObhjUFNz8c3K7lfiXSXDgviV29uobPeAbVCArLSfAJXeKayl2HKE%3D&formData=offer%255B34280083%255D%255B18457975%255D%255Bprice%255D%3D111.11%26offer%255B34280084%255D%255B18457976%255D%255Bprice%255D%3D222.22%26offer%255B34280085%255D%255B18457977%255D%255Bprice%255D%3D333.33'"
   ]
  },
  {
   "cell_type": "code",
   "execution_count": null,
   "id": "34cde1db",
   "metadata": {},
   "outputs": [],
   "source": []
  },
  {
   "cell_type": "code",
   "execution_count": 144,
   "id": "4c64502b",
   "metadata": {},
   "outputs": [],
   "source": [
    "# unquote(data)"
   ]
  },
  {
   "cell_type": "code",
   "execution_count": 8,
   "id": "959ba4d5",
   "metadata": {},
   "outputs": [],
   "source": [
    "def gen_xml_data():\n",
    "    res = {}\n",
    "    \n",
    "    for price in prices:\n",
    "        res[f'xmlData[{price[\"buy_lot_point_id\"]}]'] = price['xml_string']\n",
    "        \n",
    "    return res"
   ]
  },
  {
   "cell_type": "code",
   "execution_count": 25,
   "id": "d03e74fb",
   "metadata": {},
   "outputs": [],
   "source": [
    "formdata = {\n",
    "    f\"offer[{record['app_lot_id']}][{record['buy_lot_point_id']}][price]\": record['price']\n",
    "    for record in prices\n",
    "}"
   ]
  },
  {
   "cell_type": "code",
   "execution_count": 26,
   "id": "7873cd33",
   "metadata": {},
   "outputs": [
    {
     "data": {
      "text/plain": [
       "{'offer[34280543][18457977][price]': 416330.36}"
      ]
     },
     "execution_count": 26,
     "metadata": {},
     "output_type": "execute_result"
    }
   ],
   "source": [
    "formdata"
   ]
  },
  {
   "cell_type": "code",
   "execution_count": 27,
   "id": "29e86a07",
   "metadata": {},
   "outputs": [],
   "source": [
    "record = gen_xml_data()\n",
    "# record['formData'] = urllib.parse.urlencode(formdata)\n",
    "# record['formData'] = formdata"
   ]
  },
  {
   "cell_type": "code",
   "execution_count": 28,
   "id": "beaaa760",
   "metadata": {},
   "outputs": [
    {
     "data": {
      "text/plain": [
       "(False, False)"
      ]
     },
     "execution_count": 28,
     "metadata": {},
     "output_type": "execute_result"
    }
   ],
   "source": [
    "# when all finished add this string to ecnoded result manually\n",
    "# otherwise it puts ' after keys which is not present at the original data\n",
    "# also this way it matches original data.formData completely.\n",
    "\n",
    "formdata_encoded = 'formData=' + urlencode(formdata)\n",
    "\n",
    "formdata_original = 'formData=offer%5B34280083%5D%5B18457975%5D%5Bprice%5D=111.11&offer%5B34280084%5D%5B18457976%5D%5Bprice%5D=222.22&offer%5B34280085%5D%5B18457977%5D%5Bprice%5D=333.33'\n",
    "\n",
    "\n",
    "unquote(formdata_encoded) == unquote(formdata_original), formdata_encoded == formdata_original"
   ]
  },
  {
   "cell_type": "code",
   "execution_count": 30,
   "id": "80a905aa",
   "metadata": {
    "scrolled": true
   },
   "outputs": [],
   "source": [
    "# # this way we encode xmlData part equally to original\n",
    "\n",
    "# tt = urlencode(record, safe='+')\n",
    "# tt == data[:len(tt)]"
   ]
  },
  {
   "cell_type": "code",
   "execution_count": null,
   "id": "23ec8b51",
   "metadata": {},
   "outputs": [],
   "source": []
  },
  {
   "cell_type": "code",
   "execution_count": 31,
   "id": "83e36c24",
   "metadata": {},
   "outputs": [
    {
     "name": "stdout",
     "output_type": "stream",
     "text": [
      "200\n"
     ]
    }
   ],
   "source": [
    "signatures = {}\n",
    "\n",
    "for p in prices:\n",
    "    cms = sign(p['xml_string'])\n",
    "    signatures[f'signData[{p[\"buy_lot_point_id\"]}]'] = cms"
   ]
  },
  {
   "cell_type": "code",
   "execution_count": 32,
   "id": "a2b81347",
   "metadata": {
    "scrolled": true
   },
   "outputs": [],
   "source": [
    "my_data = urlencode(record, safe='+') + '&' + urlencode(signatures) + '&' + formdata_encoded"
   ]
  },
  {
   "cell_type": "code",
   "execution_count": 34,
   "id": "ca369369",
   "metadata": {
    "scrolled": true
   },
   "outputs": [
    {
     "data": {
      "text/plain": [
       "'xmlData%5B18457977%5D=%3C%3Fxml+version%3D%221.0%22+encoding%3D%22UTF-8%22%3F%3E%3Cpriceoffer%3E%3Ctrd_buy_id%3E7196072%3C%2Ftrd_buy_id%3E%3Ctrd_buy_lot_id%3E19114252%3C%2Ftrd_buy_lot_id%3E%3Ctrd_buy_lot_point_id%3E18457977%3C%2Ftrd_buy_lot_point_id%3E%3Cprice%3E416330.36%3C%2Fprice%3E%3C%2Fpriceoffer%3E&signData%5B18457977%5D=MIIHLwYJKoZIhvcNAQcCoIIHIDCCBxwCAQExDjAMBggqgw4DCgEDAQUAMIHmBgkqhkiG9w0BBwGggdgEgdU8P3htbCB2ZXJzaW9uPSIxLjAiIGVuY29kaW5nPSJVVEYtOCI%2FPjxwcmljZW9mZmVyPjx0cmRfYnV5X2lkPjcxOTYwNzI8L3RyZF9idXlfaWQ%2BPHRyZF9idXlfbG90X2lkPjE5MTE0MjUyPC90cmRfYnV5X2xvdF9pZD48dHJkX2J1eV9sb3RfcG9pbnRfaWQ%2BMTg0NTc5Nzc8L3RyZF9idXlfbG90X3BvaW50X2lkPjxwcmljZT40MTYzMzAuMzY8L3ByaWNlPjwvcHJpY2VvZmZlcj6gggTaMIIE1jCCBICgAwIBAgIULBFucGgIEwDyHT8jjFMCo2xU7H4wDQYJKoMOAwoBAQECBQAwUzELMAkGA1UEBhMCS1oxRDBCBgNVBAMMO9Kw0JvQotCi0KvSmiDQmtCj05jQm9CQ0J3QlNCr0KDQo9Co0Ksg0J7QoNCi0JDQm9Cr0pogKEdPU1QpMB4XDTIxMDYwNDA3NTE1NVoXDTIyMDYwNDA3NTE1NVowggF1MSowKAYDVQQDDCHQmtCQ0JnQk9Ce0KDQntCU0KbQldCS0JAg0JzQkNCZ0K8xITAfBgNVBAQMGNCa0JDQmdCT0J7QoNCe0JTQptCV0JLQkDEYMBYGA1UEBRMPSUlOODMwNTA0NDAwMDQ5MQswCQYDVQQGEwJLWjGBnDCBmQYDVQQKDIGR0KLQntCS0JDQoNCY0KnQldCh0KLQktCeINChINCe0JPQoNCQ0J3QmNCn0JXQndCd0J7QmSDQntCi0JLQldCi0KHQotCS0JXQndCd0J7QodCi0KzQriAi0JjQndCW0JjQndCY0KDQmNCd0JPQntCS0JDQryDQmtCe0JzQn9CQ0J3QmNCvICLQm9CY0JTQldCgIjEYMBYGA1UECwwPQklOMTEwOTQwMDA0OTA5MSMwIQYDVQQqDBrQodCi0JDQndCY0KHQm9CQ0JLQntCS0J3QkDEfMB0GCSqGSIb3DQEJARYQQ0VPQExFQURFUkVORy5LWjBsMCUGCSqDDgMKAQEBATAYBgoqgw4DCgEBAQEBBgoqgw4DCgEDAQEAA0MABEDk36lRIduJHXYf2mZSoaY46q06pz8fTkInD91Y8hQSbNfdw6zp7FB1Qp6pIal0sIrIl70JpgQOjxzDYNIV%2Fmkno4IB9jCCAfIwDgYDVR0PAQH%2FBAQDAgbAMDMGA1UdJQQsMCoGCCsGAQUFBwMEBggqgw4DAwQBAgYJKoMOAwMEAQIBBgkqgw4DAwQDAgEwDwYDVR0jBAgwBoAEW2pz6TAdBgNVHQ4EFgQU3hE7WqNKTTjuiDbD4q4uPI4j0GwwXgYDVR0gBFcwVTBTBgcqgw4DAwIBMEgwIQYIKwYBBQUHAgEWFWh0dHA6Ly9wa2kuZ292Lmt6L2NwczAjBggrBgEFBQcCAjAXDBVodHRwOi8vcGtpLmdvdi5rei9jcHMwWAYDVR0fBFEwTzBNoEugSYYiaHR0cDovL2NybC5wa2kuZ292Lmt6L25jYV9nb3N0LmNybIYjaHR0cDovL2NybDEucGtpLmdvdi5rei9uY2FfZ29zdC5jcmwwXAYDVR0uBFUwUzBRoE%2BgTYYkaHR0cDovL2NybC5wa2kuZ292Lmt6L25jYV9kX2dvc3QuY3JshiVodHRwOi8vY3JsMS5wa2kuZ292Lmt6L25jYV9kX2dvc3QuY3JsMGMGCCsGAQUFBwEBBFcwVTAvBggrBgEFBQcwAoYjaHR0cDovL3BraS5nb3Yua3ovY2VydC9uY2FfZ29zdC5jZXIwIgYIKwYBBQUHMAGGFmh0dHA6Ly9vY3NwLnBraS5nb3Yua3owDQYJKoMOAwoBAQECBQADQQBep8zG1qucVUVmucAEmFw6%2FUrSaOzZ1UErJMiq8IXZzQ6EW7WbjaD4jOZ7eBZjgkuKqecCxgiQA0g4E%2BZP9MgxMYIBPjCCAToCAQEwazBTMQswCQYDVQQGEwJLWjFEMEIGA1UEAww70rDQm9Ci0KLQq9KaINCa0KPTmNCb0JDQndCU0KvQoNCj0KjQqyDQntCg0KLQkNCb0KvSmiAoR09TVCkCFCwRbnBoCBMA8h0%2FI4xTAqNsVOx%2BMAwGCCqDDgMKAQMBBQCgaTAYBgkqhkiG9w0BCQMxCwYJKoZIhvcNAQcBMBwGCSqGSIb3DQEJBTEPFw0yMjAzMjcxOTMzMjZaMC8GCSqGSIb3DQEJBDEiBCCtrT1zL9sc9G87JyEWAvokjqmXkbIubvdKXNBuxuRGYzANBgkqgw4DCgEBAQIFAARAbhFsRdA4jxLNrymPKOl%2FQN88%2FY34EsfziqUTG9YT44Fmy%2B6iEVuIYVyZR%2FUCohYi7yJsjLSiWSz%2BCuBFEMctUw%3D%3D&formData=offer%5B34280543%5D%5B18457977%5D%5Bprice%5D=416330.36'"
      ]
     },
     "execution_count": 34,
     "metadata": {},
     "output_type": "execute_result"
    }
   ],
   "source": [
    "my_data"
   ]
  },
  {
   "cell_type": "code",
   "execution_count": null,
   "id": "c772a3fc",
   "metadata": {},
   "outputs": [],
   "source": []
  },
  {
   "cell_type": "code",
   "execution_count": null,
   "id": "13b7c215",
   "metadata": {},
   "outputs": [],
   "source": []
  },
  {
   "cell_type": "code",
   "execution_count": null,
   "id": "925fd955",
   "metadata": {},
   "outputs": [],
   "source": []
  },
  {
   "cell_type": "code",
   "execution_count": null,
   "id": "1a8c6167",
   "metadata": {},
   "outputs": [],
   "source": []
  },
  {
   "cell_type": "code",
   "execution_count": null,
   "id": "7aa6df3e",
   "metadata": {},
   "outputs": [],
   "source": []
  },
  {
   "cell_type": "code",
   "execution_count": 219,
   "id": "d26a4162",
   "metadata": {},
   "outputs": [],
   "source": [
    "with open('../scrapy_parser/prices_output_19114250.txt', 'r') as f:\n",
    "    dd = json.load(f)"
   ]
  },
  {
   "cell_type": "code",
   "execution_count": 220,
   "id": "f77c5b4d",
   "metadata": {},
   "outputs": [
    {
     "data": {
      "text/plain": [
       "'formData=offer%5B18457975%5D%5B18457975%5D%5Bprice%5D=466087.63'"
      ]
     },
     "execution_count": 220,
     "metadata": {},
     "output_type": "execute_result"
    }
   ],
   "source": [
    "dd['form']"
   ]
  },
  {
   "cell_type": "code",
   "execution_count": 221,
   "id": "39cb0ae9",
   "metadata": {},
   "outputs": [
    {
     "data": {
      "text/plain": [
       "'formData=offer[18457975][18457975][price]=466087.63'"
      ]
     },
     "execution_count": 221,
     "metadata": {},
     "output_type": "execute_result"
    }
   ],
   "source": [
    "unquote(dd['form'])"
   ]
  },
  {
   "cell_type": "code",
   "execution_count": 222,
   "id": "92f946ac",
   "metadata": {},
   "outputs": [
    {
     "data": {
      "text/plain": [
       "'xmlData[18457975]=<?xml+version=\"1.0\"+encoding=\"UTF-8\"?><priceoffer><trd_buy_id>7196072</trd_buy_id><trd_buy_lot_id>19114250</trd_buy_lot_id><trd_buy_lot_point_id>18457975</trd_buy_lot_point_id><price>466087.63</price></priceoffer>'"
      ]
     },
     "execution_count": 222,
     "metadata": {},
     "output_type": "execute_result"
    }
   ],
   "source": [
    "unquote(dd['xml'])"
   ]
  },
  {
   "cell_type": "code",
   "execution_count": 218,
   "id": "3991ccc8",
   "metadata": {},
   "outputs": [
    {
     "data": {
      "text/plain": [
       "[{'price': 416330.36,\n",
       "  'buy_lot_id': '19114252',\n",
       "  'buy_lot_point_id': '18457977',\n",
       "  'app_lot_id': '34280400',\n",
       "  'xml_string': '<?xml version=\"1.0\" encoding=\"UTF-8\"?><priceoffer><trd_buy_id>7196072</trd_buy_id><trd_buy_lot_id>19114252</trd_buy_lot_id><trd_buy_lot_point_id>18457977</trd_buy_lot_point_id><price>416330.36</price></priceoffer>'}]"
      ]
     },
     "execution_count": 218,
     "metadata": {},
     "output_type": "execute_result"
    }
   ],
   "source": [
    "prices"
   ]
  },
  {
   "cell_type": "code",
   "execution_count": null,
   "id": "8dedc676",
   "metadata": {},
   "outputs": [],
   "source": []
  },
  {
   "cell_type": "code",
   "execution_count": 177,
   "id": "4446228e",
   "metadata": {},
   "outputs": [
    {
     "data": {
      "text/plain": [
       "{'offer[34280398][18457975][price]': 466087.63,\n",
       " 'offer[34280399][18457976][price]': 247433.04,\n",
       " 'offer[34280400][18457977][price]': 416330.36}"
      ]
     },
     "execution_count": 177,
     "metadata": {},
     "output_type": "execute_result"
    }
   ],
   "source": [
    "formdata"
   ]
  },
  {
   "cell_type": "code",
   "execution_count": 208,
   "id": "66512ad1",
   "metadata": {
    "scrolled": true
   },
   "outputs": [
    {
     "data": {
      "text/plain": [
       "'xmlData%5B18457977%5D=%3C%3Fxml+version%3D%221.0%22+encoding%3D%22UTF-8%22%3F%3E%3Cpriceoffer%3E%3Ctrd_buy_id%3E7196072%3C%2Ftrd_buy_id%3E%3Ctrd_buy_lot_id%3E19114252%3C%2Ftrd_buy_lot_id%3E%3Ctrd_buy_lot_point_id%3E18457977%3C%2Ftrd_buy_lot_point_id%3E%3Cprice%3E416330.36%3C%2Fprice%3E%3C%2Fpriceoffer%3E&signData%5B18457977%5D=MIIHLwYJKoZIhvcNAQcCoIIHIDCCBxwCAQExDjAMBggqgw4DCgEDAQUAMIHmBgkqhkiG9w0BBwGggdgEgdU8P3htbCB2ZXJzaW9uPSIxLjAiIGVuY29kaW5nPSJVVEYtOCI%2FPjxwcmljZW9mZmVyPjx0cmRfYnV5X2lkPjcxOTYwNzI8L3RyZF9idXlfaWQ%2BPHRyZF9idXlfbG90X2lkPjE5MTE0MjUyPC90cmRfYnV5X2xvdF9pZD48dHJkX2J1eV9sb3RfcG9pbnRfaWQ%2BMTg0NTc5Nzc8L3RyZF9idXlfbG90X3BvaW50X2lkPjxwcmljZT40MTYzMzAuMzY8L3ByaWNlPjwvcHJpY2VvZmZlcj6gggTaMIIE1jCCBICgAwIBAgIULBFucGgIEwDyHT8jjFMCo2xU7H4wDQYJKoMOAwoBAQECBQAwUzELMAkGA1UEBhMCS1oxRDBCBgNVBAMMO9Kw0JvQotCi0KvSmiDQmtCj05jQm9CQ0J3QlNCr0KDQo9Co0Ksg0J7QoNCi0JDQm9Cr0pogKEdPU1QpMB4XDTIxMDYwNDA3NTE1NVoXDTIyMDYwNDA3NTE1NVowggF1MSowKAYDVQQDDCHQmtCQ0JnQk9Ce0KDQntCU0KbQldCS0JAg0JzQkNCZ0K8xITAfBgNVBAQMGNCa0JDQmdCT0J7QoNCe0JTQptCV0JLQkDEYMBYGA1UEBRMPSUlOODMwNTA0NDAwMDQ5MQswCQYDVQQGEwJLWjGBnDCBmQYDVQQKDIGR0KLQntCS0JDQoNCY0KnQldCh0KLQktCeINChINCe0JPQoNCQ0J3QmNCn0JXQndCd0J7QmSDQntCi0JLQldCi0KHQotCS0JXQndCd0J7QodCi0KzQriAi0JjQndCW0JjQndCY0KDQmNCd0JPQntCS0JDQryDQmtCe0JzQn9CQ0J3QmNCvICLQm9CY0JTQldCgIjEYMBYGA1UECwwPQklOMTEwOTQwMDA0OTA5MSMwIQYDVQQqDBrQodCi0JDQndCY0KHQm9CQ0JLQntCS0J3QkDEfMB0GCSqGSIb3DQEJARYQQ0VPQExFQURFUkVORy5LWjBsMCUGCSqDDgMKAQEBATAYBgoqgw4DCgEBAQEBBgoqgw4DCgEDAQEAA0MABEDk36lRIduJHXYf2mZSoaY46q06pz8fTkInD91Y8hQSbNfdw6zp7FB1Qp6pIal0sIrIl70JpgQOjxzDYNIV%2Fmkno4IB9jCCAfIwDgYDVR0PAQH%2FBAQDAgbAMDMGA1UdJQQsMCoGCCsGAQUFBwMEBggqgw4DAwQBAgYJKoMOAwMEAQIBBgkqgw4DAwQDAgEwDwYDVR0jBAgwBoAEW2pz6TAdBgNVHQ4EFgQU3hE7WqNKTTjuiDbD4q4uPI4j0GwwXgYDVR0gBFcwVTBTBgcqgw4DAwIBMEgwIQYIKwYBBQUHAgEWFWh0dHA6Ly9wa2kuZ292Lmt6L2NwczAjBggrBgEFBQcCAjAXDBVodHRwOi8vcGtpLmdvdi5rei9jcHMwWAYDVR0fBFEwTzBNoEugSYYiaHR0cDovL2NybC5wa2kuZ292Lmt6L25jYV9nb3N0LmNybIYjaHR0cDovL2NybDEucGtpLmdvdi5rei9uY2FfZ29zdC5jcmwwXAYDVR0uBFUwUzBRoE%2BgTYYkaHR0cDovL2NybC5wa2kuZ292Lmt6L25jYV9kX2dvc3QuY3JshiVodHRwOi8vY3JsMS5wa2kuZ292Lmt6L25jYV9kX2dvc3QuY3JsMGMGCCsGAQUFBwEBBFcwVTAvBggrBgEFBQcwAoYjaHR0cDovL3BraS5nb3Yua3ovY2VydC9uY2FfZ29zdC5jZXIwIgYIKwYBBQUHMAGGFmh0dHA6Ly9vY3NwLnBraS5nb3Yua3owDQYJKoMOAwoBAQECBQADQQBep8zG1qucVUVmucAEmFw6%2FUrSaOzZ1UErJMiq8IXZzQ6EW7WbjaD4jOZ7eBZjgkuKqecCxgiQA0g4E%2BZP9MgxMYIBPjCCAToCAQEwazBTMQswCQYDVQQGEwJLWjFEMEIGA1UEAww70rDQm9Ci0KLQq9KaINCa0KPTmNCb0JDQndCU0KvQoNCj0KjQqyDQntCg0KLQkNCb0KvSmiAoR09TVCkCFCwRbnBoCBMA8h0%2FI4xTAqNsVOx%2BMAwGCCqDDgMKAQMBBQCgaTAYBgkqhkiG9w0BCQMxCwYJKoZIhvcNAQcBMBwGCSqGSIb3DQEJBTEPFw0yMjAzMjUyMTAyMzlaMC8GCSqGSIb3DQEJBDEiBCCtrT1zL9sc9G87JyEWAvokjqmXkbIubvdKXNBuxuRGYzANBgkqgw4DCgEBAQIFAARAC6U9PaDWdgu77q%2Bl9z773shSxaYoKM8V0ypXcYyrDbh0khLOsTue4BGILbAKyKjM0zfWaGyzL%2Fv2swPTSt2Jjw%3D%3D&formData=offer%5B34280400%5D%5B18457977%5D%5Bprice%5D=416330.36'"
      ]
     },
     "execution_count": 208,
     "metadata": {},
     "output_type": "execute_result"
    }
   ],
   "source": [
    "my_data"
   ]
  },
  {
   "cell_type": "code",
   "execution_count": null,
   "id": "5d1d0a11",
   "metadata": {},
   "outputs": [],
   "source": []
  },
  {
   "cell_type": "code",
   "execution_count": null,
   "id": "32041778",
   "metadata": {},
   "outputs": [],
   "source": []
  },
  {
   "cell_type": "code",
   "execution_count": null,
   "id": "80d98488",
   "metadata": {},
   "outputs": [],
   "source": []
  },
  {
   "cell_type": "code",
   "execution_count": null,
   "id": "e8696715",
   "metadata": {},
   "outputs": [],
   "source": []
  },
  {
   "cell_type": "code",
   "execution_count": null,
   "id": "4aea775f",
   "metadata": {},
   "outputs": [],
   "source": []
  },
  {
   "cell_type": "code",
   "execution_count": 63,
   "id": "3097a605",
   "metadata": {},
   "outputs": [],
   "source": [
    "def compare(s1, s2):\n",
    "    for i, symbol in enumerate(s1):\n",
    "        if s1[i] != s2[i]:\n",
    "            print(i, s1[i], s2[i])"
   ]
  },
  {
   "cell_type": "code",
   "execution_count": 79,
   "id": "2a07bc1f",
   "metadata": {},
   "outputs": [],
   "source": [
    "compare(data[:908], urllib.parse.urlencode(tt, safe='+')[:908])"
   ]
  },
  {
   "cell_type": "code",
   "execution_count": null,
   "id": "35579f2e",
   "metadata": {},
   "outputs": [],
   "source": []
  },
  {
   "cell_type": "code",
   "execution_count": 88,
   "id": "8add335b",
   "metadata": {
    "scrolled": true
   },
   "outputs": [],
   "source": []
  },
  {
   "cell_type": "code",
   "execution_count": null,
   "id": "4eba28f6",
   "metadata": {},
   "outputs": [],
   "source": []
  },
  {
   "cell_type": "code",
   "execution_count": null,
   "id": "caec21a7",
   "metadata": {},
   "outputs": [],
   "source": []
  }
 ],
 "metadata": {
  "kernelspec": {
   "display_name": "Python 3 (ipykernel)",
   "language": "python",
   "name": "python3"
  },
  "language_info": {
   "codemirror_mode": {
    "name": "ipython",
    "version": 3
   },
   "file_extension": ".py",
   "mimetype": "text/x-python",
   "name": "python",
   "nbconvert_exporter": "python",
   "pygments_lexer": "ipython3",
   "version": "3.8.10"
  }
 },
 "nbformat": 4,
 "nbformat_minor": 5
}
